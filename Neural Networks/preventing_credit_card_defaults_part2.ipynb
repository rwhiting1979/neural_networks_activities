{
 "cells": [
  {
   "cell_type": "markdown",
   "metadata": {},
   "source": [
    "# Preventing Credit Card Defaults - Part 2\n",
    "\n",
    "In this activity, you will continue working on the neural network model to prevent credit card defaults. In this second part, you will compile, fit, and evaluate the model.\n",
    "\n",
    "## Instructions:\n",
    "\n",
    "1. Open the notebook, and run all the cells in the Jupyter notebook that correspond to “Preventing Credit Card Defaults Part 1”.\n",
    "\n",
    "2. Compile the neural network model using the `binary_crossentropy` loss function, the `adam` optimizer, and the additional metric `accuracy`.\n",
    "\n",
    "3. Fit the model with the training data, using 100 epochs.\n",
    "\n",
    "4. Plot the model’s loss function and accuracy over the 100 epochs.\n",
    "\n",
    "5. Evaluate the model using testing data and the `evaluate` method.\n",
    "\n",
    "\n",
    "## References:\n",
    "\n",
    "[Keras Sequential model](https://keras.io/api/models/sequential/)\n",
    "\n",
    "[Keras Dense module](https://keras.io/api/layers/core_layers/dense/)"
   ]
  },
  {
   "cell_type": "code",
   "execution_count": 41,
   "metadata": {},
   "outputs": [],
   "source": [
    "# Imports\n",
    "import pandas as pd\n",
    "from pathlib import Path\n",
    "import tensorflow as tf\n",
    "from tensorflow.keras.layers import Dense\n",
    "from tensorflow.keras.models import Sequential\n",
    "from sklearn.preprocessing import StandardScaler\n",
    "from sklearn.model_selection import train_test_split\n",
    "\n",
    "%matplotlib inline"
   ]
  },
  {
   "cell_type": "markdown",
   "metadata": {},
   "source": [
    "## Step 1: Run all the cells in the Jupyter notebook that correspond to “Preventing Credit Card Defaults Part 1”."
   ]
  },
  {
   "cell_type": "markdown",
   "metadata": {},
   "source": [
    "### Read the CSV file from the Resources folder into a Pandas DataFrame."
   ]
  },
  {
   "cell_type": "code",
   "execution_count": 42,
   "metadata": {},
   "outputs": [
    {
     "data": {
      "text/html": [
       "<div>\n",
       "<style scoped>\n",
       "    .dataframe tbody tr th:only-of-type {\n",
       "        vertical-align: middle;\n",
       "    }\n",
       "\n",
       "    .dataframe tbody tr th {\n",
       "        vertical-align: top;\n",
       "    }\n",
       "\n",
       "    .dataframe thead th {\n",
       "        text-align: right;\n",
       "    }\n",
       "</style>\n",
       "<table border=\"1\" class=\"dataframe\">\n",
       "  <thead>\n",
       "    <tr style=\"text-align: right;\">\n",
       "      <th></th>\n",
       "      <th>LIMIT_BAL</th>\n",
       "      <th>SEX</th>\n",
       "      <th>EDUCATION</th>\n",
       "      <th>MARRIAGE</th>\n",
       "      <th>AGE</th>\n",
       "      <th>PAY_0</th>\n",
       "      <th>PAY_2</th>\n",
       "      <th>PAY_3</th>\n",
       "      <th>PAY_4</th>\n",
       "      <th>PAY_5</th>\n",
       "      <th>...</th>\n",
       "      <th>\"BILL_AMT4\"</th>\n",
       "      <th>BILL_AMT5</th>\n",
       "      <th>BILL_AMT6</th>\n",
       "      <th>PAY_AMT1</th>\n",
       "      <th>PAY_AMT2</th>\n",
       "      <th>PAY_AMT3</th>\n",
       "      <th>PAY_AMT4</th>\n",
       "      <th>PAY_AMT5</th>\n",
       "      <th>PAY_AMT6</th>\n",
       "      <th>DEFAULT</th>\n",
       "    </tr>\n",
       "  </thead>\n",
       "  <tbody>\n",
       "    <tr>\n",
       "      <th>0</th>\n",
       "      <td>20000</td>\n",
       "      <td>2</td>\n",
       "      <td>2</td>\n",
       "      <td>1</td>\n",
       "      <td>24</td>\n",
       "      <td>2</td>\n",
       "      <td>2</td>\n",
       "      <td>-1</td>\n",
       "      <td>-1</td>\n",
       "      <td>-2</td>\n",
       "      <td>...</td>\n",
       "      <td>0</td>\n",
       "      <td>0</td>\n",
       "      <td>0</td>\n",
       "      <td>0</td>\n",
       "      <td>689</td>\n",
       "      <td>0</td>\n",
       "      <td>0</td>\n",
       "      <td>0</td>\n",
       "      <td>0</td>\n",
       "      <td>1</td>\n",
       "    </tr>\n",
       "    <tr>\n",
       "      <th>1</th>\n",
       "      <td>120000</td>\n",
       "      <td>2</td>\n",
       "      <td>2</td>\n",
       "      <td>2</td>\n",
       "      <td>26</td>\n",
       "      <td>-1</td>\n",
       "      <td>2</td>\n",
       "      <td>0</td>\n",
       "      <td>0</td>\n",
       "      <td>0</td>\n",
       "      <td>...</td>\n",
       "      <td>3272</td>\n",
       "      <td>3455</td>\n",
       "      <td>3261</td>\n",
       "      <td>0</td>\n",
       "      <td>1000</td>\n",
       "      <td>1000</td>\n",
       "      <td>1000</td>\n",
       "      <td>0</td>\n",
       "      <td>2000</td>\n",
       "      <td>1</td>\n",
       "    </tr>\n",
       "    <tr>\n",
       "      <th>2</th>\n",
       "      <td>90000</td>\n",
       "      <td>2</td>\n",
       "      <td>2</td>\n",
       "      <td>2</td>\n",
       "      <td>34</td>\n",
       "      <td>0</td>\n",
       "      <td>0</td>\n",
       "      <td>0</td>\n",
       "      <td>0</td>\n",
       "      <td>0</td>\n",
       "      <td>...</td>\n",
       "      <td>14331</td>\n",
       "      <td>14948</td>\n",
       "      <td>15549</td>\n",
       "      <td>1518</td>\n",
       "      <td>1500</td>\n",
       "      <td>1000</td>\n",
       "      <td>1000</td>\n",
       "      <td>1000</td>\n",
       "      <td>5000</td>\n",
       "      <td>0</td>\n",
       "    </tr>\n",
       "    <tr>\n",
       "      <th>3</th>\n",
       "      <td>50000</td>\n",
       "      <td>2</td>\n",
       "      <td>2</td>\n",
       "      <td>1</td>\n",
       "      <td>37</td>\n",
       "      <td>0</td>\n",
       "      <td>0</td>\n",
       "      <td>0</td>\n",
       "      <td>0</td>\n",
       "      <td>0</td>\n",
       "      <td>...</td>\n",
       "      <td>28314</td>\n",
       "      <td>28959</td>\n",
       "      <td>29547</td>\n",
       "      <td>2000</td>\n",
       "      <td>2019</td>\n",
       "      <td>1200</td>\n",
       "      <td>1100</td>\n",
       "      <td>1069</td>\n",
       "      <td>1000</td>\n",
       "      <td>0</td>\n",
       "    </tr>\n",
       "    <tr>\n",
       "      <th>4</th>\n",
       "      <td>50000</td>\n",
       "      <td>1</td>\n",
       "      <td>2</td>\n",
       "      <td>1</td>\n",
       "      <td>57</td>\n",
       "      <td>-1</td>\n",
       "      <td>0</td>\n",
       "      <td>-1</td>\n",
       "      <td>0</td>\n",
       "      <td>0</td>\n",
       "      <td>...</td>\n",
       "      <td>20940</td>\n",
       "      <td>19146</td>\n",
       "      <td>19131</td>\n",
       "      <td>2000</td>\n",
       "      <td>36681</td>\n",
       "      <td>10000</td>\n",
       "      <td>9000</td>\n",
       "      <td>689</td>\n",
       "      <td>679</td>\n",
       "      <td>0</td>\n",
       "    </tr>\n",
       "  </tbody>\n",
       "</table>\n",
       "<p>5 rows × 24 columns</p>\n",
       "</div>"
      ],
      "text/plain": [
       "   LIMIT_BAL  SEX  EDUCATION  MARRIAGE  AGE  PAY_0  PAY_2  PAY_3  PAY_4  \\\n",
       "0      20000    2          2         1   24      2      2     -1     -1   \n",
       "1     120000    2          2         2   26     -1      2      0      0   \n",
       "2      90000    2          2         2   34      0      0      0      0   \n",
       "3      50000    2          2         1   37      0      0      0      0   \n",
       "4      50000    1          2         1   57     -1      0     -1      0   \n",
       "\n",
       "   PAY_5  ...           \"BILL_AMT4\"  BILL_AMT5  BILL_AMT6  PAY_AMT1  PAY_AMT2  \\\n",
       "0     -2  ...                     0          0          0         0       689   \n",
       "1      0  ...                  3272       3455       3261         0      1000   \n",
       "2      0  ...                 14331      14948      15549      1518      1500   \n",
       "3      0  ...                 28314      28959      29547      2000      2019   \n",
       "4      0  ...                 20940      19146      19131      2000     36681   \n",
       "\n",
       "   PAY_AMT3  PAY_AMT4  PAY_AMT5  PAY_AMT6  DEFAULT  \n",
       "0         0         0         0         0        1  \n",
       "1      1000      1000         0      2000        1  \n",
       "2      1000      1000      1000      5000        0  \n",
       "3      1200      1100      1069      1000        0  \n",
       "4     10000      9000       689       679        0  \n",
       "\n",
       "[5 rows x 24 columns]"
      ]
     },
     "execution_count": 42,
     "metadata": {},
     "output_type": "execute_result"
    }
   ],
   "source": [
    "# Read the cc_default.csv file from the Resources folder into a Pandas DataFrame\n",
    "cc_df = pd.read_csv(\n",
    "    Path(\"cc_default.csv\")\n",
    ")\n",
    "\n",
    "# Review the DataFrame\n",
    "cc_df.head()"
   ]
  },
  {
   "cell_type": "markdown",
   "metadata": {},
   "source": [
    "### Define the features set `X` by including all of the DataFrame columns except the “DEFAULT” column."
   ]
  },
  {
   "cell_type": "code",
   "execution_count": 43,
   "metadata": {},
   "outputs": [
    {
     "data": {
      "text/html": [
       "<div>\n",
       "<style scoped>\n",
       "    .dataframe tbody tr th:only-of-type {\n",
       "        vertical-align: middle;\n",
       "    }\n",
       "\n",
       "    .dataframe tbody tr th {\n",
       "        vertical-align: top;\n",
       "    }\n",
       "\n",
       "    .dataframe thead th {\n",
       "        text-align: right;\n",
       "    }\n",
       "</style>\n",
       "<table border=\"1\" class=\"dataframe\">\n",
       "  <thead>\n",
       "    <tr style=\"text-align: right;\">\n",
       "      <th></th>\n",
       "      <th>LIMIT_BAL</th>\n",
       "      <th>SEX</th>\n",
       "      <th>EDUCATION</th>\n",
       "      <th>MARRIAGE</th>\n",
       "      <th>AGE</th>\n",
       "      <th>PAY_0</th>\n",
       "      <th>PAY_2</th>\n",
       "      <th>PAY_3</th>\n",
       "      <th>PAY_4</th>\n",
       "      <th>PAY_5</th>\n",
       "      <th>...</th>\n",
       "      <th>BILL_AMT3</th>\n",
       "      <th>\"BILL_AMT4\"</th>\n",
       "      <th>BILL_AMT5</th>\n",
       "      <th>BILL_AMT6</th>\n",
       "      <th>PAY_AMT1</th>\n",
       "      <th>PAY_AMT2</th>\n",
       "      <th>PAY_AMT3</th>\n",
       "      <th>PAY_AMT4</th>\n",
       "      <th>PAY_AMT5</th>\n",
       "      <th>PAY_AMT6</th>\n",
       "    </tr>\n",
       "  </thead>\n",
       "  <tbody>\n",
       "    <tr>\n",
       "      <th>0</th>\n",
       "      <td>20000</td>\n",
       "      <td>2</td>\n",
       "      <td>2</td>\n",
       "      <td>1</td>\n",
       "      <td>24</td>\n",
       "      <td>2</td>\n",
       "      <td>2</td>\n",
       "      <td>-1</td>\n",
       "      <td>-1</td>\n",
       "      <td>-2</td>\n",
       "      <td>...</td>\n",
       "      <td>689</td>\n",
       "      <td>0</td>\n",
       "      <td>0</td>\n",
       "      <td>0</td>\n",
       "      <td>0</td>\n",
       "      <td>689</td>\n",
       "      <td>0</td>\n",
       "      <td>0</td>\n",
       "      <td>0</td>\n",
       "      <td>0</td>\n",
       "    </tr>\n",
       "    <tr>\n",
       "      <th>1</th>\n",
       "      <td>120000</td>\n",
       "      <td>2</td>\n",
       "      <td>2</td>\n",
       "      <td>2</td>\n",
       "      <td>26</td>\n",
       "      <td>-1</td>\n",
       "      <td>2</td>\n",
       "      <td>0</td>\n",
       "      <td>0</td>\n",
       "      <td>0</td>\n",
       "      <td>...</td>\n",
       "      <td>2682</td>\n",
       "      <td>3272</td>\n",
       "      <td>3455</td>\n",
       "      <td>3261</td>\n",
       "      <td>0</td>\n",
       "      <td>1000</td>\n",
       "      <td>1000</td>\n",
       "      <td>1000</td>\n",
       "      <td>0</td>\n",
       "      <td>2000</td>\n",
       "    </tr>\n",
       "    <tr>\n",
       "      <th>2</th>\n",
       "      <td>90000</td>\n",
       "      <td>2</td>\n",
       "      <td>2</td>\n",
       "      <td>2</td>\n",
       "      <td>34</td>\n",
       "      <td>0</td>\n",
       "      <td>0</td>\n",
       "      <td>0</td>\n",
       "      <td>0</td>\n",
       "      <td>0</td>\n",
       "      <td>...</td>\n",
       "      <td>13559</td>\n",
       "      <td>14331</td>\n",
       "      <td>14948</td>\n",
       "      <td>15549</td>\n",
       "      <td>1518</td>\n",
       "      <td>1500</td>\n",
       "      <td>1000</td>\n",
       "      <td>1000</td>\n",
       "      <td>1000</td>\n",
       "      <td>5000</td>\n",
       "    </tr>\n",
       "    <tr>\n",
       "      <th>3</th>\n",
       "      <td>50000</td>\n",
       "      <td>2</td>\n",
       "      <td>2</td>\n",
       "      <td>1</td>\n",
       "      <td>37</td>\n",
       "      <td>0</td>\n",
       "      <td>0</td>\n",
       "      <td>0</td>\n",
       "      <td>0</td>\n",
       "      <td>0</td>\n",
       "      <td>...</td>\n",
       "      <td>49291</td>\n",
       "      <td>28314</td>\n",
       "      <td>28959</td>\n",
       "      <td>29547</td>\n",
       "      <td>2000</td>\n",
       "      <td>2019</td>\n",
       "      <td>1200</td>\n",
       "      <td>1100</td>\n",
       "      <td>1069</td>\n",
       "      <td>1000</td>\n",
       "    </tr>\n",
       "    <tr>\n",
       "      <th>4</th>\n",
       "      <td>50000</td>\n",
       "      <td>1</td>\n",
       "      <td>2</td>\n",
       "      <td>1</td>\n",
       "      <td>57</td>\n",
       "      <td>-1</td>\n",
       "      <td>0</td>\n",
       "      <td>-1</td>\n",
       "      <td>0</td>\n",
       "      <td>0</td>\n",
       "      <td>...</td>\n",
       "      <td>35835</td>\n",
       "      <td>20940</td>\n",
       "      <td>19146</td>\n",
       "      <td>19131</td>\n",
       "      <td>2000</td>\n",
       "      <td>36681</td>\n",
       "      <td>10000</td>\n",
       "      <td>9000</td>\n",
       "      <td>689</td>\n",
       "      <td>679</td>\n",
       "    </tr>\n",
       "  </tbody>\n",
       "</table>\n",
       "<p>5 rows × 23 columns</p>\n",
       "</div>"
      ],
      "text/plain": [
       "   LIMIT_BAL  SEX  EDUCATION  MARRIAGE  AGE  PAY_0  PAY_2  PAY_3  PAY_4  \\\n",
       "0      20000    2          2         1   24      2      2     -1     -1   \n",
       "1     120000    2          2         2   26     -1      2      0      0   \n",
       "2      90000    2          2         2   34      0      0      0      0   \n",
       "3      50000    2          2         1   37      0      0      0      0   \n",
       "4      50000    1          2         1   57     -1      0     -1      0   \n",
       "\n",
       "   PAY_5  ...  BILL_AMT3           \"BILL_AMT4\"  BILL_AMT5  BILL_AMT6  \\\n",
       "0     -2  ...        689                     0          0          0   \n",
       "1      0  ...       2682                  3272       3455       3261   \n",
       "2      0  ...      13559                 14331      14948      15549   \n",
       "3      0  ...      49291                 28314      28959      29547   \n",
       "4      0  ...      35835                 20940      19146      19131   \n",
       "\n",
       "   PAY_AMT1  PAY_AMT2  PAY_AMT3  PAY_AMT4  PAY_AMT5  PAY_AMT6  \n",
       "0         0       689         0         0         0         0  \n",
       "1         0      1000      1000      1000         0      2000  \n",
       "2      1518      1500      1000      1000      1000      5000  \n",
       "3      2000      2019      1200      1100      1069      1000  \n",
       "4      2000     36681     10000      9000       689       679  \n",
       "\n",
       "[5 rows x 23 columns]"
      ]
     },
     "execution_count": 43,
     "metadata": {},
     "output_type": "execute_result"
    }
   ],
   "source": [
    "# Define features set X by selecting all columns but DEFAULT\n",
    "X = cc_df.drop(columns=[\"DEFAULT\"]).copy()\n",
    "\n",
    "# Display the features DataFrame\n",
    "X.head()"
   ]
  },
  {
   "cell_type": "markdown",
   "metadata": {},
   "source": [
    "### Create the target `y` by assigning the values of the DataFrame “DEFAULT” column."
   ]
  },
  {
   "cell_type": "code",
   "execution_count": 44,
   "metadata": {},
   "outputs": [
    {
     "data": {
      "text/plain": [
       "0    1\n",
       "1    1\n",
       "2    0\n",
       "3    0\n",
       "4    0\n",
       "Name: DEFAULT, dtype: int64"
      ]
     },
     "execution_count": 44,
     "metadata": {},
     "output_type": "execute_result"
    }
   ],
   "source": [
    "# Define target set by selecting the DEFAULT column\n",
    "y = cc_df[\"DEFAULT\"]\n",
    "\n",
    "# Display a sample y\n",
    "y[:5]"
   ]
  },
  {
   "cell_type": "markdown",
   "metadata": {},
   "source": [
    "### Create the training and testing sets using the `train_test_split` function from scikit-learn."
   ]
  },
  {
   "cell_type": "code",
   "execution_count": 45,
   "metadata": {},
   "outputs": [],
   "source": [
    "# Create training and testing datasets using train_test_split\n",
    "# Assign the function a random_state equal to 1\n",
    "X_train, X_test, y_train, y_test = train_test_split(X, y, random_state=1)"
   ]
  },
  {
   "cell_type": "markdown",
   "metadata": {},
   "source": [
    "### Scale the features data using the `StandardScaler` from sklearn."
   ]
  },
  {
   "cell_type": "code",
   "execution_count": 46,
   "metadata": {},
   "outputs": [],
   "source": [
    "# Create the StandardScaler instance\n",
    "X_scaler = StandardScaler()"
   ]
  },
  {
   "cell_type": "code",
   "execution_count": 47,
   "metadata": {},
   "outputs": [
    {
     "data": {
      "text/plain": [
       "StandardScaler()"
      ]
     },
     "execution_count": 47,
     "metadata": {},
     "output_type": "execute_result"
    }
   ],
   "source": [
    "# Fit the scaler to the features training dataset\n",
    "X_scaler.fit(X_train)"
   ]
  },
  {
   "cell_type": "code",
   "execution_count": 48,
   "metadata": {},
   "outputs": [],
   "source": [
    "# Scale both the training and testing data from the features dataset\n",
    "X_train_scaled = X_scaler.transform(X_train)\n",
    "X_test_scaled = X_scaler.transform(X_test)"
   ]
  },
  {
   "cell_type": "markdown",
   "metadata": {},
   "source": [
    "### Create a neural network model with an input layer that consists of 22 inputs, one hidden layer, and an output layer. Use the `units` parameter to define 12 neurons for the hidden layer and a single output for the output layer. Use the ReLU activation function for the hidden layer and the sigmoid activation function for the output layer."
   ]
  },
  {
   "cell_type": "code",
   "execution_count": 49,
   "metadata": {},
   "outputs": [],
   "source": [
    "# Define the the number of inputs to the model\n",
    "number_inputs = 23\n",
    "\n",
    "# Define the number of hidden nodes for the model\n",
    "number_hidden_nodes = 12\n",
    "\n",
    "# Create the Sequential model instance\n",
    "neuron = Sequential()\n",
    "\n",
    "# Add a Dense layer specifying the number of inputs, the number of hidden nodes, and the activation function\n",
    "neuron.add(Dense(units=number_hidden_nodes, input_dim=number_inputs, activation=\"relu\"))\n",
    "\n",
    "# Add the output layer to the model specifying the number of output neurons and activation function\n",
    "neuron.add(Dense(1, activation=\"sigmoid\"))"
   ]
  },
  {
   "cell_type": "markdown",
   "metadata": {},
   "source": [
    "### Display the model structure using the `summary` function."
   ]
  },
  {
   "cell_type": "code",
   "execution_count": 50,
   "metadata": {},
   "outputs": [
    {
     "name": "stdout",
     "output_type": "stream",
     "text": [
      "Model: \"sequential_3\"\n",
      "_________________________________________________________________\n",
      " Layer (type)                Output Shape              Param #   \n",
      "=================================================================\n",
      " dense_6 (Dense)             (None, 12)                288       \n",
      "                                                                 \n",
      " dense_7 (Dense)             (None, 1)                 13        \n",
      "                                                                 \n",
      "=================================================================\n",
      "Total params: 301\n",
      "Trainable params: 301\n",
      "Non-trainable params: 0\n",
      "_________________________________________________________________\n"
     ]
    }
   ],
   "source": [
    "# Display the Sequential model summary\n",
    "neuron.summary()"
   ]
  },
  {
   "cell_type": "markdown",
   "metadata": {},
   "source": [
    "## Step 2:  Compile the neural network model using the `binary_crossentropy` loss function, the `adam` optimizer, and the additional metric `accuracy`."
   ]
  },
  {
   "cell_type": "code",
   "execution_count": 51,
   "metadata": {},
   "outputs": [],
   "source": [
    "# Compile the Sequential model\n",
    "neuron.compile(loss=\"binary_crossentropy\", optimizer=\"adam\", metrics=[\"accuracy\"])"
   ]
  },
  {
   "cell_type": "markdown",
   "metadata": {},
   "source": [
    "## Step 3: Fit the model with 100 epochs using the training data."
   ]
  },
  {
   "cell_type": "code",
   "execution_count": 52,
   "metadata": {},
   "outputs": [
    {
     "name": "stdout",
     "output_type": "stream",
     "text": [
      "Epoch 1/100\n",
      "704/704 [==============================] - 1s 789us/step - loss: 0.5343 - accuracy: 0.7659\n",
      "Epoch 2/100\n",
      "704/704 [==============================] - 1s 769us/step - loss: 0.4638 - accuracy: 0.8123\n",
      "Epoch 3/100\n",
      "704/704 [==============================] - 1s 791us/step - loss: 0.4546 - accuracy: 0.8141\n",
      "Epoch 4/100\n",
      "704/704 [==============================] - 1s 773us/step - loss: 0.4494 - accuracy: 0.8164\n",
      "Epoch 5/100\n",
      "704/704 [==============================] - 1s 778us/step - loss: 0.4453 - accuracy: 0.8169\n",
      "Epoch 6/100\n",
      "704/704 [==============================] - 1s 775us/step - loss: 0.4423 - accuracy: 0.8180\n",
      "Epoch 7/100\n",
      "704/704 [==============================] - 1s 765us/step - loss: 0.4392 - accuracy: 0.8189\n",
      "Epoch 8/100\n",
      "704/704 [==============================] - 1s 768us/step - loss: 0.4380 - accuracy: 0.8198\n",
      "Epoch 9/100\n",
      "704/704 [==============================] - 1s 773us/step - loss: 0.4367 - accuracy: 0.8199\n",
      "Epoch 10/100\n",
      "704/704 [==============================] - 1s 799us/step - loss: 0.4355 - accuracy: 0.8216\n",
      "Epoch 11/100\n",
      "704/704 [==============================] - 1s 843us/step - loss: 0.4347 - accuracy: 0.8213\n",
      "Epoch 12/100\n",
      "704/704 [==============================] - 1s 811us/step - loss: 0.4342 - accuracy: 0.8200\n",
      "Epoch 13/100\n",
      "704/704 [==============================] - 1s 789us/step - loss: 0.4343 - accuracy: 0.8204\n",
      "Epoch 14/100\n",
      "704/704 [==============================] - 1s 829us/step - loss: 0.4336 - accuracy: 0.8205\n",
      "Epoch 15/100\n",
      "704/704 [==============================] - 1s 775us/step - loss: 0.4328 - accuracy: 0.8206\n",
      "Epoch 16/100\n",
      "704/704 [==============================] - 1s 760us/step - loss: 0.4329 - accuracy: 0.8214\n",
      "Epoch 17/100\n",
      "704/704 [==============================] - 1s 789us/step - loss: 0.4322 - accuracy: 0.8203\n",
      "Epoch 18/100\n",
      "704/704 [==============================] - 1s 761us/step - loss: 0.4323 - accuracy: 0.8214\n",
      "Epoch 19/100\n",
      "704/704 [==============================] - 1s 805us/step - loss: 0.4318 - accuracy: 0.8208\n",
      "Epoch 20/100\n",
      "704/704 [==============================] - 1s 844us/step - loss: 0.4314 - accuracy: 0.8223\n",
      "Epoch 21/100\n",
      "704/704 [==============================] - 1s 836us/step - loss: 0.4314 - accuracy: 0.8211\n",
      "Epoch 22/100\n",
      "704/704 [==============================] - 1s 776us/step - loss: 0.4312 - accuracy: 0.8220\n",
      "Epoch 23/100\n",
      "704/704 [==============================] - 1s 761us/step - loss: 0.4309 - accuracy: 0.8222\n",
      "Epoch 24/100\n",
      "704/704 [==============================] - 1s 803us/step - loss: 0.4308 - accuracy: 0.8218\n",
      "Epoch 25/100\n",
      "704/704 [==============================] - 1s 837us/step - loss: 0.4307 - accuracy: 0.8221\n",
      "Epoch 26/100\n",
      "704/704 [==============================] - 1s 820us/step - loss: 0.4306 - accuracy: 0.8224\n",
      "Epoch 27/100\n",
      "704/704 [==============================] - 1s 805us/step - loss: 0.4302 - accuracy: 0.8220\n",
      "Epoch 28/100\n",
      "704/704 [==============================] - 1s 816us/step - loss: 0.4303 - accuracy: 0.8230\n",
      "Epoch 29/100\n",
      "704/704 [==============================] - 1s 831us/step - loss: 0.4304 - accuracy: 0.8223\n",
      "Epoch 30/100\n",
      "704/704 [==============================] - 1s 845us/step - loss: 0.4302 - accuracy: 0.8222\n",
      "Epoch 31/100\n",
      "704/704 [==============================] - 1s 773us/step - loss: 0.4299 - accuracy: 0.8225\n",
      "Epoch 32/100\n",
      "704/704 [==============================] - 1s 781us/step - loss: 0.4296 - accuracy: 0.8221\n",
      "Epoch 33/100\n",
      "704/704 [==============================] - 1s 856us/step - loss: 0.4296 - accuracy: 0.8223\n",
      "Epoch 34/100\n",
      "704/704 [==============================] - 1s 851us/step - loss: 0.4297 - accuracy: 0.8226\n",
      "Epoch 35/100\n",
      "704/704 [==============================] - 1s 766us/step - loss: 0.4294 - accuracy: 0.8226\n",
      "Epoch 36/100\n",
      "704/704 [==============================] - 1s 780us/step - loss: 0.4292 - accuracy: 0.8216\n",
      "Epoch 37/100\n",
      "704/704 [==============================] - 1s 783us/step - loss: 0.4289 - accuracy: 0.8219\n",
      "Epoch 38/100\n",
      "704/704 [==============================] - 1s 775us/step - loss: 0.4287 - accuracy: 0.8224\n",
      "Epoch 39/100\n",
      "704/704 [==============================] - 1s 786us/step - loss: 0.4291 - accuracy: 0.8221\n",
      "Epoch 40/100\n",
      "704/704 [==============================] - 1s 782us/step - loss: 0.4288 - accuracy: 0.8222\n",
      "Epoch 41/100\n",
      "704/704 [==============================] - 1s 775us/step - loss: 0.4283 - accuracy: 0.8212\n",
      "Epoch 42/100\n",
      "704/704 [==============================] - 1s 771us/step - loss: 0.4284 - accuracy: 0.8224\n",
      "Epoch 43/100\n",
      "704/704 [==============================] - 1s 767us/step - loss: 0.4282 - accuracy: 0.8222\n",
      "Epoch 44/100\n",
      "704/704 [==============================] - 1s 784us/step - loss: 0.4283 - accuracy: 0.8216\n",
      "Epoch 45/100\n",
      "704/704 [==============================] - 1s 773us/step - loss: 0.4282 - accuracy: 0.8212\n",
      "Epoch 46/100\n",
      "704/704 [==============================] - 1s 793us/step - loss: 0.4279 - accuracy: 0.8224\n",
      "Epoch 47/100\n",
      "704/704 [==============================] - 1s 839us/step - loss: 0.4279 - accuracy: 0.8228\n",
      "Epoch 48/100\n",
      "704/704 [==============================] - 1s 784us/step - loss: 0.4279 - accuracy: 0.8219\n",
      "Epoch 49/100\n",
      "704/704 [==============================] - 1s 770us/step - loss: 0.4276 - accuracy: 0.8236\n",
      "Epoch 50/100\n",
      "704/704 [==============================] - 1s 806us/step - loss: 0.4277 - accuracy: 0.8225\n",
      "Epoch 51/100\n",
      "704/704 [==============================] - 1s 811us/step - loss: 0.4274 - accuracy: 0.8226\n",
      "Epoch 52/100\n",
      "704/704 [==============================] - 1s 773us/step - loss: 0.4269 - accuracy: 0.8225\n",
      "Epoch 53/100\n",
      "704/704 [==============================] - 1s 830us/step - loss: 0.4277 - accuracy: 0.8222\n",
      "Epoch 54/100\n",
      "704/704 [==============================] - 1s 814us/step - loss: 0.4271 - accuracy: 0.8220\n",
      "Epoch 55/100\n",
      "704/704 [==============================] - 1s 815us/step - loss: 0.4272 - accuracy: 0.8223\n",
      "Epoch 56/100\n",
      "704/704 [==============================] - 1s 771us/step - loss: 0.4273 - accuracy: 0.8225\n",
      "Epoch 57/100\n",
      "704/704 [==============================] - 1s 766us/step - loss: 0.4274 - accuracy: 0.8228\n",
      "Epoch 58/100\n",
      "704/704 [==============================] - 1s 840us/step - loss: 0.4271 - accuracy: 0.8225\n",
      "Epoch 59/100\n",
      "704/704 [==============================] - 1s 803us/step - loss: 0.4268 - accuracy: 0.8227\n",
      "Epoch 60/100\n",
      "704/704 [==============================] - 1s 777us/step - loss: 0.4268 - accuracy: 0.8225\n",
      "Epoch 61/100\n",
      "704/704 [==============================] - 1s 775us/step - loss: 0.4268 - accuracy: 0.8228\n",
      "Epoch 62/100\n",
      "704/704 [==============================] - 1s 772us/step - loss: 0.4268 - accuracy: 0.8224\n",
      "Epoch 63/100\n",
      "704/704 [==============================] - 1s 771us/step - loss: 0.4268 - accuracy: 0.8232\n",
      "Epoch 64/100\n",
      "704/704 [==============================] - 1s 767us/step - loss: 0.4269 - accuracy: 0.8233\n",
      "Epoch 65/100\n",
      "704/704 [==============================] - 1s 771us/step - loss: 0.4266 - accuracy: 0.8234\n",
      "Epoch 66/100\n",
      "704/704 [==============================] - 1s 771us/step - loss: 0.4264 - accuracy: 0.8226\n",
      "Epoch 67/100\n",
      "704/704 [==============================] - 1s 831us/step - loss: 0.4266 - accuracy: 0.8225\n",
      "Epoch 68/100\n",
      "704/704 [==============================] - 1s 805us/step - loss: 0.4263 - accuracy: 0.8226\n",
      "Epoch 69/100\n",
      "704/704 [==============================] - 1s 865us/step - loss: 0.4266 - accuracy: 0.8229\n",
      "Epoch 70/100\n",
      "704/704 [==============================] - 1s 833us/step - loss: 0.4264 - accuracy: 0.8232\n",
      "Epoch 71/100\n",
      "704/704 [==============================] - 1s 781us/step - loss: 0.4259 - accuracy: 0.8227\n",
      "Epoch 72/100\n",
      "704/704 [==============================] - 1s 768us/step - loss: 0.4263 - accuracy: 0.8224\n",
      "Epoch 73/100\n",
      "704/704 [==============================] - 1s 801us/step - loss: 0.4262 - accuracy: 0.8228\n",
      "Epoch 74/100\n",
      "704/704 [==============================] - 1s 796us/step - loss: 0.4263 - accuracy: 0.8222\n",
      "Epoch 75/100\n",
      "704/704 [==============================] - 1s 773us/step - loss: 0.4262 - accuracy: 0.8225\n",
      "Epoch 76/100\n",
      "704/704 [==============================] - 1s 773us/step - loss: 0.4264 - accuracy: 0.8232\n",
      "Epoch 77/100\n",
      "704/704 [==============================] - 1s 818us/step - loss: 0.4258 - accuracy: 0.8222\n",
      "Epoch 78/100\n",
      "704/704 [==============================] - 1s 837us/step - loss: 0.4258 - accuracy: 0.8225\n",
      "Epoch 79/100\n",
      "704/704 [==============================] - 1s 807us/step - loss: 0.4257 - accuracy: 0.8236\n",
      "Epoch 80/100\n",
      "704/704 [==============================] - 1s 831us/step - loss: 0.4259 - accuracy: 0.8227\n",
      "Epoch 81/100\n",
      "704/704 [==============================] - 1s 785us/step - loss: 0.4260 - accuracy: 0.8223\n",
      "Epoch 82/100\n",
      "704/704 [==============================] - 1s 801us/step - loss: 0.4258 - accuracy: 0.8225\n",
      "Epoch 83/100\n",
      "704/704 [==============================] - 1s 792us/step - loss: 0.4254 - accuracy: 0.8229\n",
      "Epoch 84/100\n",
      "704/704 [==============================] - 1s 772us/step - loss: 0.4259 - accuracy: 0.8237\n",
      "Epoch 85/100\n",
      "704/704 [==============================] - 1s 761us/step - loss: 0.4255 - accuracy: 0.8230\n",
      "Epoch 86/100\n",
      "704/704 [==============================] - 1s 795us/step - loss: 0.4258 - accuracy: 0.8231\n",
      "Epoch 87/100\n",
      "704/704 [==============================] - 1s 792us/step - loss: 0.4259 - accuracy: 0.8227\n",
      "Epoch 88/100\n",
      "704/704 [==============================] - 1s 764us/step - loss: 0.4258 - accuracy: 0.8220\n",
      "Epoch 89/100\n",
      "704/704 [==============================] - 1s 769us/step - loss: 0.4258 - accuracy: 0.8216\n",
      "Epoch 90/100\n",
      "704/704 [==============================] - 1s 777us/step - loss: 0.4255 - accuracy: 0.8224\n",
      "Epoch 91/100\n",
      "704/704 [==============================] - 1s 769us/step - loss: 0.4254 - accuracy: 0.8224\n",
      "Epoch 92/100\n",
      "704/704 [==============================] - 1s 769us/step - loss: 0.4254 - accuracy: 0.8234\n",
      "Epoch 93/100\n",
      "704/704 [==============================] - 1s 838us/step - loss: 0.4254 - accuracy: 0.8216\n",
      "Epoch 94/100\n",
      "704/704 [==============================] - 1s 824us/step - loss: 0.4253 - accuracy: 0.8220\n",
      "Epoch 95/100\n",
      "704/704 [==============================] - 1s 773us/step - loss: 0.4255 - accuracy: 0.8223\n",
      "Epoch 96/100\n",
      "704/704 [==============================] - 1s 767us/step - loss: 0.4255 - accuracy: 0.8233\n",
      "Epoch 97/100\n",
      "704/704 [==============================] - 1s 770us/step - loss: 0.4252 - accuracy: 0.8221\n",
      "Epoch 98/100\n",
      "704/704 [==============================] - 1s 802us/step - loss: 0.4252 - accuracy: 0.8224\n",
      "Epoch 99/100\n",
      "704/704 [==============================] - 1s 780us/step - loss: 0.4252 - accuracy: 0.8227\n",
      "Epoch 100/100\n",
      "704/704 [==============================] - 1s 780us/step - loss: 0.4248 - accuracy: 0.8224\n"
     ]
    }
   ],
   "source": [
    "# Fit the model using 100 epochs and the training data\n",
    "model = neuron.fit(X_train_scaled, y_train, epochs=100)"
   ]
  },
  {
   "cell_type": "markdown",
   "metadata": {},
   "source": [
    "## Step 4: Plot the model’s loss function and accuracy over the 100 epochs."
   ]
  },
  {
   "cell_type": "code",
   "execution_count": 53,
   "metadata": {},
   "outputs": [
    {
     "data": {
      "text/html": [
       "<div>\n",
       "<style scoped>\n",
       "    .dataframe tbody tr th:only-of-type {\n",
       "        vertical-align: middle;\n",
       "    }\n",
       "\n",
       "    .dataframe tbody tr th {\n",
       "        vertical-align: top;\n",
       "    }\n",
       "\n",
       "    .dataframe thead th {\n",
       "        text-align: right;\n",
       "    }\n",
       "</style>\n",
       "<table border=\"1\" class=\"dataframe\">\n",
       "  <thead>\n",
       "    <tr style=\"text-align: right;\">\n",
       "      <th></th>\n",
       "      <th>loss</th>\n",
       "      <th>accuracy</th>\n",
       "    </tr>\n",
       "  </thead>\n",
       "  <tbody>\n",
       "    <tr>\n",
       "      <th>1</th>\n",
       "      <td>0.534336</td>\n",
       "      <td>0.765867</td>\n",
       "    </tr>\n",
       "    <tr>\n",
       "      <th>2</th>\n",
       "      <td>0.463830</td>\n",
       "      <td>0.812311</td>\n",
       "    </tr>\n",
       "    <tr>\n",
       "      <th>3</th>\n",
       "      <td>0.454605</td>\n",
       "      <td>0.814089</td>\n",
       "    </tr>\n",
       "  </tbody>\n",
       "</table>\n",
       "</div>"
      ],
      "text/plain": [
       "       loss  accuracy\n",
       "1  0.534336  0.765867\n",
       "2  0.463830  0.812311\n",
       "3  0.454605  0.814089"
      ]
     },
     "execution_count": 53,
     "metadata": {},
     "output_type": "execute_result"
    }
   ],
   "source": [
    "# Create a DataFrame using the model history and an index parameter\n",
    "model_plot = pd.DataFrame(model.history, index=range(1, len(model.history[\"loss\"]) + 1))\n",
    "\n",
    "model_plot.head(3)"
   ]
  },
  {
   "cell_type": "code",
   "execution_count": 54,
   "metadata": {},
   "outputs": [
    {
     "data": {
      "text/plain": [
       "<AxesSubplot:>"
      ]
     },
     "execution_count": 54,
     "metadata": {},
     "output_type": "execute_result"
    },
    {
     "data": {
      "image/png": "[encoded data removed]",
      "text/plain": [
       "<Figure size 640x480 with 1 Axes>"
      ]
     },
     "metadata": {},
     "output_type": "display_data"
    }
   ],
   "source": [
    "# Vizualize the model plot where the y-axis displays the loss metric\n",
    "model_plot.plot(y=\"loss\")"
   ]
  },
  {
   "cell_type": "code",
   "execution_count": 55,
   "metadata": {},
   "outputs": [
    {
     "data": {
      "text/plain": [
       "<AxesSubplot:>"
      ]
     },
     "execution_count": 55,
     "metadata": {},
     "output_type": "execute_result"
    },
    {
     "data": {
      "image/png": "[encoded data removed]",
      "text/plain": [
       "<Figure size 640x480 with 1 Axes>"
      ]
     },
     "metadata": {},
     "output_type": "display_data"
    }
   ],
   "source": [
    "# Vizualize the model plot where the y-axis displays the accuracy metric\n",
    "model_plot.plot(y=\"accuracy\")\n"
   ]
  },
  {
   "cell_type": "markdown",
   "metadata": {},
   "source": [
    "## Step 5: Evaluate the model using testing data and the `evaluate` method."
   ]
  },
  {
   "cell_type": "code",
   "execution_count": 56,
   "metadata": {},
   "outputs": [
    {
     "name": "stdout",
     "output_type": "stream",
     "text": [
      "235/235 - 0s - loss: 0.4405 - accuracy: 0.8139 - 286ms/epoch - 1ms/step\n",
      "Loss: 0.440478652715683, Accuracy: 0.8138666749000549\n"
     ]
    }
   ],
   "source": [
    "# Evaluate the model loss and accuracy metrics using the evaluate method and the test data\n",
    "model_loss, model_accuracy = neuron.evaluate(X_test_scaled, y_test, verbose=2)\n",
    "\n",
    "# Display the evaluation results\n",
    "print(f\"Loss: {model_loss}, Accuracy: {model_accuracy}\")"
   ]
  },
  {
   "cell_type": "code",
   "execution_count": null,
   "metadata": {},
   "outputs": [],
   "source": []
  }
 ],
 "metadata": {
  "file_extension": ".py",
  "kernelspec": {
   "display_name": "Python 3 (ipykernel)",
   "language": "python",
   "name": "python3"
  },
  "language_info": {
   "codemirror_mode": {
    "name": "ipython",
    "version": 3
   },
   "file_extension": ".py",
   "mimetype": "text/x-python",
   "name": "python",
   "nbconvert_exporter": "python",
   "pygments_lexer": "ipython3",
   "version": "3.7.13"
  },
  "mimetype": "text/x-python",
  "name": "python",
  "npconvert_exporter": "python",
  "pygments_lexer": "ipython3",
  "version": 3
 },
 "nbformat": 4,
 "nbformat_minor": 4
}
