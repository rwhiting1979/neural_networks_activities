{
 "cells": [
  {
   "cell_type": "markdown",
   "id": "4104bbc9",
   "metadata": {},
   "source": [
    "# Overfitting"
   ]
  },
  {
   "cell_type": "code",
   "execution_count": 1,
   "id": "038c919a",
   "metadata": {},
   "outputs": [],
   "source": [
    "import pandas as pd\n",
    "import numpy as np"
   ]
  },
  {
   "cell_type": "code",
   "execution_count": 2,
   "id": "292c574b",
   "metadata": {},
   "outputs": [],
   "source": [
    "from keras.models import Sequential\n",
    "from keras.layers import Dense, Activation"
   ]
  },
  {
   "cell_type": "code",
   "execution_count": 3,
   "id": "322048df",
   "metadata": {},
   "outputs": [],
   "source": [
    "df = pd.read_csv('meet_or_beat.csv')"
   ]
  },
  {
   "cell_type": "markdown",
   "id": "c8e6b8ab",
   "metadata": {},
   "source": [
    "### Preparing the Data"
   ]
  },
  {
   "cell_type": "code",
   "execution_count": 4,
   "id": "7f12a832",
   "metadata": {},
   "outputs": [],
   "source": [
    "# Use qcut to group earnings results into 5 buckets\n",
    "df['earnings_quantile'] = (pd.qcut(df['EPS'], q=5, labels=False))+1"
   ]
  },
  {
   "cell_type": "code",
   "execution_count": 5,
   "id": "5ef6dad0",
   "metadata": {},
   "outputs": [
    {
     "data": {
      "text/html": [
       "<div>\n",
       "<style scoped>\n",
       "    .dataframe tbody tr th:only-of-type {\n",
       "        vertical-align: middle;\n",
       "    }\n",
       "\n",
       "    .dataframe tbody tr th {\n",
       "        vertical-align: top;\n",
       "    }\n",
       "\n",
       "    .dataframe thead th {\n",
       "        text-align: right;\n",
       "    }\n",
       "</style>\n",
       "<table border=\"1\" class=\"dataframe\">\n",
       "  <thead>\n",
       "    <tr style=\"text-align: right;\">\n",
       "      <th></th>\n",
       "      <th>EPS</th>\n",
       "      <th>forecasted_eps</th>\n",
       "      <th>noOfEsts</th>\n",
       "      <th>after_total_returns</th>\n",
       "      <th>before_total_returns</th>\n",
       "      <th>earnings_quantile</th>\n",
       "    </tr>\n",
       "  </thead>\n",
       "  <tbody>\n",
       "    <tr>\n",
       "      <th>0</th>\n",
       "      <td>2.01</td>\n",
       "      <td>1.67</td>\n",
       "      <td>11.0</td>\n",
       "      <td>0.051444</td>\n",
       "      <td>0.018585</td>\n",
       "      <td>5</td>\n",
       "    </tr>\n",
       "    <tr>\n",
       "      <th>1</th>\n",
       "      <td>0.17</td>\n",
       "      <td>0.19</td>\n",
       "      <td>6.0</td>\n",
       "      <td>0.112955</td>\n",
       "      <td>-0.000510</td>\n",
       "      <td>3</td>\n",
       "    </tr>\n",
       "    <tr>\n",
       "      <th>2</th>\n",
       "      <td>-0.07</td>\n",
       "      <td>0.14</td>\n",
       "      <td>4.0</td>\n",
       "      <td>0.077167</td>\n",
       "      <td>-0.046104</td>\n",
       "      <td>2</td>\n",
       "    </tr>\n",
       "    <tr>\n",
       "      <th>3</th>\n",
       "      <td>0.48</td>\n",
       "      <td>0.51</td>\n",
       "      <td>8.0</td>\n",
       "      <td>-0.006130</td>\n",
       "      <td>-0.004899</td>\n",
       "      <td>4</td>\n",
       "    </tr>\n",
       "    <tr>\n",
       "      <th>4</th>\n",
       "      <td>-0.24</td>\n",
       "      <td>-0.27</td>\n",
       "      <td>9.0</td>\n",
       "      <td>0.089762</td>\n",
       "      <td>-0.025466</td>\n",
       "      <td>1</td>\n",
       "    </tr>\n",
       "    <tr>\n",
       "      <th>...</th>\n",
       "      <td>...</td>\n",
       "      <td>...</td>\n",
       "      <td>...</td>\n",
       "      <td>...</td>\n",
       "      <td>...</td>\n",
       "      <td>...</td>\n",
       "    </tr>\n",
       "    <tr>\n",
       "      <th>71963</th>\n",
       "      <td>0.31</td>\n",
       "      <td>0.30</td>\n",
       "      <td>4.0</td>\n",
       "      <td>0.006035</td>\n",
       "      <td>0.016854</td>\n",
       "      <td>3</td>\n",
       "    </tr>\n",
       "    <tr>\n",
       "      <th>71964</th>\n",
       "      <td>-0.65</td>\n",
       "      <td>-0.66</td>\n",
       "      <td>3.0</td>\n",
       "      <td>0.179327</td>\n",
       "      <td>-0.039052</td>\n",
       "      <td>1</td>\n",
       "    </tr>\n",
       "    <tr>\n",
       "      <th>71965</th>\n",
       "      <td>0.27</td>\n",
       "      <td>0.28</td>\n",
       "      <td>3.0</td>\n",
       "      <td>0.059002</td>\n",
       "      <td>0.141599</td>\n",
       "      <td>3</td>\n",
       "    </tr>\n",
       "    <tr>\n",
       "      <th>71966</th>\n",
       "      <td>0.11</td>\n",
       "      <td>0.10</td>\n",
       "      <td>4.0</td>\n",
       "      <td>-0.035755</td>\n",
       "      <td>0.026346</td>\n",
       "      <td>2</td>\n",
       "    </tr>\n",
       "    <tr>\n",
       "      <th>71967</th>\n",
       "      <td>-0.12</td>\n",
       "      <td>-0.12</td>\n",
       "      <td>1.0</td>\n",
       "      <td>-0.196751</td>\n",
       "      <td>0.337778</td>\n",
       "      <td>1</td>\n",
       "    </tr>\n",
       "  </tbody>\n",
       "</table>\n",
       "<p>71968 rows × 6 columns</p>\n",
       "</div>"
      ],
      "text/plain": [
       "        EPS  forecasted_eps  noOfEsts  after_total_returns  \\\n",
       "0      2.01            1.67      11.0             0.051444   \n",
       "1      0.17            0.19       6.0             0.112955   \n",
       "2     -0.07            0.14       4.0             0.077167   \n",
       "3      0.48            0.51       8.0            -0.006130   \n",
       "4     -0.24           -0.27       9.0             0.089762   \n",
       "...     ...             ...       ...                  ...   \n",
       "71963  0.31            0.30       4.0             0.006035   \n",
       "71964 -0.65           -0.66       3.0             0.179327   \n",
       "71965  0.27            0.28       3.0             0.059002   \n",
       "71966  0.11            0.10       4.0            -0.035755   \n",
       "71967 -0.12           -0.12       1.0            -0.196751   \n",
       "\n",
       "       before_total_returns  earnings_quantile  \n",
       "0                  0.018585                  5  \n",
       "1                 -0.000510                  3  \n",
       "2                 -0.046104                  2  \n",
       "3                 -0.004899                  4  \n",
       "4                 -0.025466                  1  \n",
       "...                     ...                ...  \n",
       "71963              0.016854                  3  \n",
       "71964             -0.039052                  1  \n",
       "71965              0.141599                  3  \n",
       "71966              0.026346                  2  \n",
       "71967              0.337778                  1  \n",
       "\n",
       "[71968 rows x 6 columns]"
      ]
     },
     "execution_count": 5,
     "metadata": {},
     "output_type": "execute_result"
    }
   ],
   "source": [
    "# Verify buckets are approximately balanced \n",
    "# (Slight imbalance from ties is OK)\n",
    "df['earnings_quantile'].value_counts()\n",
    "df"
   ]
  },
  {
   "cell_type": "code",
   "execution_count": 6,
   "id": "09248537",
   "metadata": {},
   "outputs": [],
   "source": [
    "# Save bucket (\"quantile\") value as the new  `y` variable\n",
    "y_quantile = df['earnings_quantile']"
   ]
  },
  {
   "cell_type": "code",
   "execution_count": 14,
   "id": "a7e3a052-c633-485e-a290-e6a816b4267f",
   "metadata": {},
   "outputs": [
    {
     "data": {
      "text/plain": [
       "5"
      ]
     },
     "execution_count": 14,
     "metadata": {},
     "output_type": "execute_result"
    }
   ],
   "source": [
    "# Save the unique count of categories for later use\n",
    "number_of_classes = len(y_quantile.unique())\n",
    "number_of_classes"
   ]
  },
  {
   "cell_type": "code",
   "execution_count": 8,
   "id": "ae105d54-a5db-437a-9573-955f4a45454a",
   "metadata": {},
   "outputs": [
    {
     "data": {
      "text/plain": [
       "array([4, 2, 1, ..., 2, 1, 0], dtype=int64)"
      ]
     },
     "execution_count": 8,
     "metadata": {},
     "output_type": "execute_result"
    }
   ],
   "source": [
    "# Encode quantiles into labels\n",
    "from sklearn.preprocessing import LabelEncoder\n",
    "encoder = LabelEncoder()\n",
    "encoder.fit(y_quantile)\n",
    "encoded_y = encoder.transform(y_quantile)\n",
    "encoded_y"
   ]
  },
  {
   "cell_type": "code",
   "execution_count": 9,
   "id": "2a2dbca5-959c-438b-a125-9554a4ce518f",
   "metadata": {},
   "outputs": [],
   "source": [
    "# Encode labels into categories\n",
    "from keras.utils.np_utils import to_categorical\n",
    "y_categorical = to_categorical(encoded_y, num_classes=number_of_classes)"
   ]
  },
  {
   "cell_type": "code",
   "execution_count": 10,
   "id": "5dd6a8d0-6269-40c2-8952-e6e3f7bcc7f8",
   "metadata": {},
   "outputs": [
    {
     "data": {
      "text/html": [
       "<div>\n",
       "<style scoped>\n",
       "    .dataframe tbody tr th:only-of-type {\n",
       "        vertical-align: middle;\n",
       "    }\n",
       "\n",
       "    .dataframe tbody tr th {\n",
       "        vertical-align: top;\n",
       "    }\n",
       "\n",
       "    .dataframe thead th {\n",
       "        text-align: right;\n",
       "    }\n",
       "</style>\n",
       "<table border=\"1\" class=\"dataframe\">\n",
       "  <thead>\n",
       "    <tr style=\"text-align: right;\">\n",
       "      <th></th>\n",
       "      <th>forecasted_eps</th>\n",
       "      <th>before_total_returns</th>\n",
       "      <th>noOfEsts</th>\n",
       "    </tr>\n",
       "  </thead>\n",
       "  <tbody>\n",
       "    <tr>\n",
       "      <th>0</th>\n",
       "      <td>1.67</td>\n",
       "      <td>0.018585</td>\n",
       "      <td>11.0</td>\n",
       "    </tr>\n",
       "    <tr>\n",
       "      <th>1</th>\n",
       "      <td>0.19</td>\n",
       "      <td>-0.000510</td>\n",
       "      <td>6.0</td>\n",
       "    </tr>\n",
       "    <tr>\n",
       "      <th>2</th>\n",
       "      <td>0.14</td>\n",
       "      <td>-0.046104</td>\n",
       "      <td>4.0</td>\n",
       "    </tr>\n",
       "  </tbody>\n",
       "</table>\n",
       "</div>"
      ],
      "text/plain": [
       "   forecasted_eps  before_total_returns  noOfEsts\n",
       "0            1.67              0.018585      11.0\n",
       "1            0.19             -0.000510       6.0\n",
       "2            0.14             -0.046104       4.0"
      ]
     },
     "execution_count": 10,
     "metadata": {},
     "output_type": "execute_result"
    }
   ],
   "source": [
    "# Specify X (predictor) variables\n",
    "X = df[['forecasted_eps',\n",
    "              'before_total_returns','noOfEsts']]\n",
    "X.head(3)"
   ]
  },
  {
   "cell_type": "code",
   "execution_count": 11,
   "id": "23e60061-8a70-421c-8530-e1378e288fee",
   "metadata": {},
   "outputs": [],
   "source": [
    "# Split into training and testing windows\n",
    "from sklearn.model_selection import train_test_split\n",
    "X_train, X_test, y_train, y_test = train_test_split(X, y_categorical, random_state=1)"
   ]
  },
  {
   "cell_type": "code",
   "execution_count": 12,
   "id": "5d407a3c-b197-477c-8a04-93e731c07fc4",
   "metadata": {},
   "outputs": [
    {
     "data": {
      "text/plain": [
       "array([[0., 0., 0., 0., 1.],\n",
       "       [0., 0., 0., 1., 0.],\n",
       "       [0., 0., 0., 0., 1.],\n",
       "       ...,\n",
       "       [0., 0., 1., 0., 0.],\n",
       "       [0., 0., 1., 0., 0.],\n",
       "       [0., 0., 0., 1., 0.]], dtype=float32)"
      ]
     },
     "execution_count": 12,
     "metadata": {},
     "output_type": "execute_result"
    }
   ],
   "source": [
    "# Preview the `y_train` values\n",
    "y_train"
   ]
  },
  {
   "cell_type": "code",
   "execution_count": 13,
   "id": "f786a9bc-ef05-46b4-a473-180951167f1e",
   "metadata": {},
   "outputs": [
    {
     "data": {
      "text/plain": [
       "3"
      ]
     },
     "execution_count": 13,
     "metadata": {},
     "output_type": "execute_result"
    }
   ],
   "source": [
    "# Save the count of unique predictor variables for use in model\n",
    "number_of_predictors = len(X.columns)\n",
    "len(X.columns)"
   ]
  },
  {
   "cell_type": "markdown",
   "id": "a1c124ca",
   "metadata": {},
   "source": [
    "### Building the Model"
   ]
  },
  {
   "cell_type": "code",
   "execution_count": 15,
   "id": "530b8154",
   "metadata": {},
   "outputs": [],
   "source": [
    "# Import the `Dropout` layer\n",
    "from keras.layers import Dropout\n",
    "# Import regularizers\n",
    "from keras.regularizers import l1, l2"
   ]
  },
  {
   "cell_type": "code",
   "execution_count": 16,
   "id": "8c9e5e76",
   "metadata": {},
   "outputs": [],
   "source": [
    "# Build the Model\n",
    "model = Sequential()\n",
    "\n",
    "# Add a dense layer (as before)\n",
    "model.add(Dense(10, input_dim=number_of_predictors, activation='relu'))\n",
    "\n",
    "# Now add a dropout layer\n",
    "model.add(Dropout(.2,input_shape=(10,)))\n",
    "\n",
    "# Add regularization to another dense layer\n",
    "model.add(Dense(5, activation='relu', kernel_regularizer=l2(0.01), bias_regularizer=l2(0.01)))\n",
    "\n",
    "# Add the final output layer\n",
    "# (Set the # of possible outputs equal to the number classes)\n",
    "model.add(Dense(number_of_classes, activation='softmax'))"
   ]
  },
  {
   "cell_type": "code",
   "execution_count": 17,
   "id": "38dfa571",
   "metadata": {},
   "outputs": [],
   "source": [
    "# Compile the model\n",
    "model.compile(loss=\"categorical_crossentropy\", \n",
    "              optimizer= \"adam\", \n",
    "              metrics=['categorical_accuracy'])"
   ]
  },
  {
   "cell_type": "code",
   "execution_count": 18,
   "id": "a313a81f-2c1c-4aae-8e2a-d1cd9178fe6f",
   "metadata": {},
   "outputs": [
    {
     "name": "stdout",
     "output_type": "stream",
     "text": [
      "Model: \"sequential\"\n",
      "_________________________________________________________________\n",
      " Layer (type)                Output Shape              Param #   \n",
      "=================================================================\n",
      " dense (Dense)               (None, 10)                40        \n",
      "                                                                 \n",
      " dropout (Dropout)           (None, 10)                0         \n",
      "                                                                 \n",
      " dense_1 (Dense)             (None, 5)                 55        \n",
      "                                                                 \n",
      " dense_2 (Dense)             (None, 5)                 30        \n",
      "                                                                 \n",
      "=================================================================\n",
      "Total params: 125\n",
      "Trainable params: 125\n",
      "Non-trainable params: 0\n",
      "_________________________________________________________________\n"
     ]
    }
   ],
   "source": [
    "# Summarise the model\n",
    "model.summary()"
   ]
  },
  {
   "cell_type": "code",
   "execution_count": 19,
   "id": "88b0ca5a-1ccd-4d1b-b2bd-8eeba0e5dfe0",
   "metadata": {},
   "outputs": [
    {
     "name": "stdout",
     "output_type": "stream",
     "text": [
      "Epoch 1/50\n",
      "44/44 [==============================] - 1s 6ms/step - loss: 1.7417 - categorical_accuracy: 0.2079 - val_loss: 1.6500 - val_categorical_accuracy: 0.1860\n",
      "Epoch 2/50\n",
      "44/44 [==============================] - 0s 2ms/step - loss: 1.6947 - categorical_accuracy: 0.2090 - val_loss: 1.6192 - val_categorical_accuracy: 0.2305\n",
      "Epoch 3/50\n",
      "44/44 [==============================] - 0s 2ms/step - loss: 1.6440 - categorical_accuracy: 0.2576 - val_loss: 1.5962 - val_categorical_accuracy: 0.3490\n",
      "Epoch 4/50\n",
      "44/44 [==============================] - 0s 2ms/step - loss: 1.6298 - categorical_accuracy: 0.3123 - val_loss: 1.5708 - val_categorical_accuracy: 0.4054\n",
      "Epoch 5/50\n",
      "44/44 [==============================] - 0s 2ms/step - loss: 1.5721 - categorical_accuracy: 0.3600 - val_loss: 1.4969 - val_categorical_accuracy: 0.5368\n",
      "Epoch 6/50\n",
      "44/44 [==============================] - 0s 2ms/step - loss: 1.5087 - categorical_accuracy: 0.4283 - val_loss: 1.4284 - val_categorical_accuracy: 0.5724\n",
      "Epoch 7/50\n",
      "44/44 [==============================] - 0s 2ms/step - loss: 1.4448 - categorical_accuracy: 0.4559 - val_loss: 1.3613 - val_categorical_accuracy: 0.5702\n",
      "Epoch 8/50\n",
      "44/44 [==============================] - 0s 2ms/step - loss: 1.3798 - categorical_accuracy: 0.5056 - val_loss: 1.2838 - val_categorical_accuracy: 0.6404\n",
      "Epoch 9/50\n",
      "44/44 [==============================] - 0s 2ms/step - loss: 1.3298 - categorical_accuracy: 0.5251 - val_loss: 1.2342 - val_categorical_accuracy: 0.6248\n",
      "Epoch 10/50\n",
      "44/44 [==============================] - 0s 2ms/step - loss: 1.2797 - categorical_accuracy: 0.5355 - val_loss: 1.1943 - val_categorical_accuracy: 0.6352\n",
      "Epoch 11/50\n",
      "44/44 [==============================] - 0s 2ms/step - loss: 1.2487 - categorical_accuracy: 0.5452 - val_loss: 1.1578 - val_categorical_accuracy: 0.6602\n",
      "Epoch 12/50\n",
      "44/44 [==============================] - 0s 2ms/step - loss: 1.2188 - categorical_accuracy: 0.5599 - val_loss: 1.1250 - val_categorical_accuracy: 0.6896\n",
      "Epoch 13/50\n",
      "44/44 [==============================] - 0s 2ms/step - loss: 1.1922 - categorical_accuracy: 0.5730 - val_loss: 1.0932 - val_categorical_accuracy: 0.7180\n",
      "Epoch 14/50\n",
      "44/44 [==============================] - 0s 2ms/step - loss: 1.1674 - categorical_accuracy: 0.5836 - val_loss: 1.0645 - val_categorical_accuracy: 0.7297\n",
      "Epoch 15/50\n",
      "44/44 [==============================] - 0s 2ms/step - loss: 1.1402 - categorical_accuracy: 0.5973 - val_loss: 1.0382 - val_categorical_accuracy: 0.7478\n",
      "Epoch 16/50\n",
      "44/44 [==============================] - 0s 2ms/step - loss: 1.1188 - categorical_accuracy: 0.6046 - val_loss: 1.0141 - val_categorical_accuracy: 0.7578\n",
      "Epoch 17/50\n",
      "44/44 [==============================] - 0s 2ms/step - loss: 1.0946 - categorical_accuracy: 0.6171 - val_loss: 0.9900 - val_categorical_accuracy: 0.7683\n",
      "Epoch 18/50\n",
      "44/44 [==============================] - 0s 2ms/step - loss: 1.0750 - categorical_accuracy: 0.6294 - val_loss: 0.9698 - val_categorical_accuracy: 0.7788\n",
      "Epoch 19/50\n",
      "44/44 [==============================] - 0s 2ms/step - loss: 1.0562 - categorical_accuracy: 0.6395 - val_loss: 0.9498 - val_categorical_accuracy: 0.7801\n",
      "Epoch 20/50\n",
      "44/44 [==============================] - 0s 2ms/step - loss: 1.0371 - categorical_accuracy: 0.6491 - val_loss: 0.9302 - val_categorical_accuracy: 0.7866\n",
      "Epoch 21/50\n",
      "44/44 [==============================] - 0s 2ms/step - loss: 1.0204 - categorical_accuracy: 0.6533 - val_loss: 0.9130 - val_categorical_accuracy: 0.7903\n",
      "Epoch 22/50\n",
      "44/44 [==============================] - 0s 2ms/step - loss: 1.0067 - categorical_accuracy: 0.6609 - val_loss: 0.8975 - val_categorical_accuracy: 0.7880\n",
      "Epoch 23/50\n",
      "44/44 [==============================] - 0s 2ms/step - loss: 0.9905 - categorical_accuracy: 0.6724 - val_loss: 0.8824 - val_categorical_accuracy: 0.7927\n",
      "Epoch 24/50\n",
      "44/44 [==============================] - 0s 2ms/step - loss: 0.9807 - categorical_accuracy: 0.6777 - val_loss: 0.8684 - val_categorical_accuracy: 0.7976\n",
      "Epoch 25/50\n",
      "44/44 [==============================] - 0s 2ms/step - loss: 0.9618 - categorical_accuracy: 0.6845 - val_loss: 0.8551 - val_categorical_accuracy: 0.8019\n",
      "Epoch 26/50\n",
      "44/44 [==============================] - 0s 2ms/step - loss: 0.9529 - categorical_accuracy: 0.6851 - val_loss: 0.8453 - val_categorical_accuracy: 0.8053\n",
      "Epoch 27/50\n",
      "44/44 [==============================] - 0s 2ms/step - loss: 0.9417 - categorical_accuracy: 0.6923 - val_loss: 0.8341 - val_categorical_accuracy: 0.7994\n",
      "Epoch 28/50\n",
      "44/44 [==============================] - 0s 2ms/step - loss: 0.9334 - categorical_accuracy: 0.6948 - val_loss: 0.8237 - val_categorical_accuracy: 0.8068\n",
      "Epoch 29/50\n",
      "44/44 [==============================] - 0s 2ms/step - loss: 0.9196 - categorical_accuracy: 0.6982 - val_loss: 0.8137 - val_categorical_accuracy: 0.8043\n",
      "Epoch 30/50\n",
      "44/44 [==============================] - 0s 2ms/step - loss: 0.9097 - categorical_accuracy: 0.7055 - val_loss: 0.8059 - val_categorical_accuracy: 0.8011\n",
      "Epoch 31/50\n",
      "44/44 [==============================] - 0s 2ms/step - loss: 0.9002 - categorical_accuracy: 0.7088 - val_loss: 0.7953 - val_categorical_accuracy: 0.8123\n",
      "Epoch 32/50\n",
      "44/44 [==============================] - 0s 2ms/step - loss: 0.8971 - categorical_accuracy: 0.7083 - val_loss: 0.7888 - val_categorical_accuracy: 0.8128\n",
      "Epoch 33/50\n",
      "44/44 [==============================] - 0s 2ms/step - loss: 0.8934 - categorical_accuracy: 0.7111 - val_loss: 0.7826 - val_categorical_accuracy: 0.8098\n",
      "Epoch 34/50\n",
      "44/44 [==============================] - 0s 2ms/step - loss: 0.8866 - categorical_accuracy: 0.7131 - val_loss: 0.7726 - val_categorical_accuracy: 0.8255\n",
      "Epoch 35/50\n",
      "44/44 [==============================] - 0s 2ms/step - loss: 0.8738 - categorical_accuracy: 0.7211 - val_loss: 0.7678 - val_categorical_accuracy: 0.8165\n",
      "Epoch 36/50\n",
      "44/44 [==============================] - 0s 2ms/step - loss: 0.8663 - categorical_accuracy: 0.7215 - val_loss: 0.7637 - val_categorical_accuracy: 0.8161\n",
      "Epoch 37/50\n",
      "44/44 [==============================] - 0s 2ms/step - loss: 0.8668 - categorical_accuracy: 0.7193 - val_loss: 0.7581 - val_categorical_accuracy: 0.8244\n",
      "Epoch 38/50\n",
      "44/44 [==============================] - 0s 2ms/step - loss: 0.8567 - categorical_accuracy: 0.7266 - val_loss: 0.7513 - val_categorical_accuracy: 0.8246\n",
      "Epoch 39/50\n",
      "44/44 [==============================] - 0s 2ms/step - loss: 0.8557 - categorical_accuracy: 0.7274 - val_loss: 0.7473 - val_categorical_accuracy: 0.8242\n",
      "Epoch 40/50\n",
      "44/44 [==============================] - 0s 2ms/step - loss: 0.8463 - categorical_accuracy: 0.7294 - val_loss: 0.7434 - val_categorical_accuracy: 0.8239\n",
      "Epoch 41/50\n",
      "44/44 [==============================] - 0s 2ms/step - loss: 0.8452 - categorical_accuracy: 0.7285 - val_loss: 0.7391 - val_categorical_accuracy: 0.8252\n",
      "Epoch 42/50\n",
      "44/44 [==============================] - 0s 2ms/step - loss: 0.8381 - categorical_accuracy: 0.7364 - val_loss: 0.7335 - val_categorical_accuracy: 0.8235\n",
      "Epoch 43/50\n",
      "44/44 [==============================] - 0s 2ms/step - loss: 0.8379 - categorical_accuracy: 0.7315 - val_loss: 0.7286 - val_categorical_accuracy: 0.8295\n",
      "Epoch 44/50\n",
      "44/44 [==============================] - 0s 2ms/step - loss: 0.8292 - categorical_accuracy: 0.7405 - val_loss: 0.7252 - val_categorical_accuracy: 0.8234\n",
      "Epoch 45/50\n",
      "44/44 [==============================] - 0s 2ms/step - loss: 0.8272 - categorical_accuracy: 0.7362 - val_loss: 0.7218 - val_categorical_accuracy: 0.8277\n",
      "Epoch 46/50\n",
      "44/44 [==============================] - 0s 2ms/step - loss: 0.8229 - categorical_accuracy: 0.7399 - val_loss: 0.7184 - val_categorical_accuracy: 0.8241\n",
      "Epoch 47/50\n",
      "44/44 [==============================] - 0s 2ms/step - loss: 0.8195 - categorical_accuracy: 0.7412 - val_loss: 0.7128 - val_categorical_accuracy: 0.8260\n",
      "Epoch 48/50\n",
      "44/44 [==============================] - 0s 2ms/step - loss: 0.8157 - categorical_accuracy: 0.7446 - val_loss: 0.7100 - val_categorical_accuracy: 0.8273\n",
      "Epoch 49/50\n",
      "44/44 [==============================] - 0s 2ms/step - loss: 0.8105 - categorical_accuracy: 0.7442 - val_loss: 0.7078 - val_categorical_accuracy: 0.8291\n",
      "Epoch 50/50\n",
      "44/44 [==============================] - 0s 2ms/step - loss: 0.8073 - categorical_accuracy: 0.7439 - val_loss: 0.7019 - val_categorical_accuracy: 0.8292\n"
     ]
    },
    {
     "data": {
      "text/plain": [
       "<keras.callbacks.History at 0x2154c2867c8>"
      ]
     },
     "execution_count": 19,
     "metadata": {},
     "output_type": "execute_result"
    }
   ],
   "source": [
    "# Add in validation loss to select the number of epochs\n",
    "# Fit the model\n",
    "number_of_epochs = 50\n",
    "model.fit(X_train,y_train, \n",
    "                    epochs=number_of_epochs,\n",
    "                    batch_size=1000,\n",
    "                      validation_split=0.2,\n",
    "                    shuffle=True)"
   ]
  },
  {
   "cell_type": "code",
   "execution_count": 20,
   "id": "4c266bec-7e09-4562-a7cc-2a5f7a732767",
   "metadata": {},
   "outputs": [
    {
     "data": {
      "text/plain": [
       "dict_keys(['loss', 'categorical_accuracy', 'val_loss', 'val_categorical_accuracy'])"
      ]
     },
     "execution_count": 20,
     "metadata": {},
     "output_type": "execute_result"
    }
   ],
   "source": [
    "# Save model history across epochs\n",
    "model_history = model.history.history\n",
    "model_history.keys()"
   ]
  },
  {
   "cell_type": "code",
   "execution_count": 21,
   "id": "51cde2a5-dadf-4aaf-a826-e71703da9a84",
   "metadata": {},
   "outputs": [
    {
     "data": {
      "text/plain": [
       "[0.20789717137813568,\n",
       " 0.20903195440769196,\n",
       " 0.2576192617416382,\n",
       " 0.31234368681907654,\n",
       " 0.36000463366508484,\n",
       " 0.42825382947921753,\n",
       " 0.45588234066963196,\n",
       " 0.505581259727478,\n",
       " 0.5250810384750366,\n",
       " 0.5354562401771545,\n",
       " 0.5452292561531067,\n",
       " 0.5599351525306702,\n",
       " 0.5730430483818054,\n",
       " 0.5836035013198853,\n",
       " 0.5972672700881958,\n",
       " 0.6045622825622559,\n",
       " 0.6170681118965149,\n",
       " 0.6294349431991577,\n",
       " 0.639532208442688,\n",
       " 0.6491199731826782,\n",
       " 0.6532654166221619,\n",
       " 0.6609309911727905,\n",
       " 0.6724409461021423,\n",
       " 0.6777443289756775,\n",
       " 0.6845067143440247,\n",
       " 0.6850625276565552,\n",
       " 0.6923112273216248,\n",
       " 0.694766104221344,\n",
       " 0.6981704235076904,\n",
       " 0.7054654955863953,\n",
       " 0.7087540626525879,\n",
       " 0.7082908749580383,\n",
       " 0.7110931277275085,\n",
       " 0.7130847573280334,\n",
       " 0.7211440205574036,\n",
       " 0.7215145826339722,\n",
       " 0.7193376421928406,\n",
       " 0.7266095280647278,\n",
       " 0.7274200916290283,\n",
       " 0.7294349074363708,\n",
       " 0.7285085916519165,\n",
       " 0.7364289164543152,\n",
       " 0.7315192222595215,\n",
       " 0.7404817342758179,\n",
       " 0.7361741662025452,\n",
       " 0.7399027347564697,\n",
       " 0.7412459254264832,\n",
       " 0.7446271181106567,\n",
       " 0.744163990020752,\n",
       " 0.7439092397689819]"
      ]
     },
     "execution_count": 21,
     "metadata": {},
     "output_type": "execute_result"
    }
   ],
   "source": [
    "# View `categorical_accuracy` for the training dataset\n",
    "model_history['categorical_accuracy']"
   ]
  },
  {
   "cell_type": "code",
   "execution_count": 22,
   "id": "2c864fd2-e059-46b8-8445-eb0e1dd957eb",
   "metadata": {},
   "outputs": [
    {
     "data": {
      "text/plain": [
       "<AxesSubplot:title={'center':'Performance Across Training and Validation'}>"
      ]
     },
     "execution_count": 22,
     "metadata": {},
     "output_type": "execute_result"
    },
    {
     "data": {
      "image/png": "[encoded data removed]",
      "text/plain": [
       "<Figure size 640x480 with 1 Axes>"
      ]
     },
     "metadata": {},
     "output_type": "display_data"
    }
   ],
   "source": [
    "# Save accuracy for training and validation set across epochs\n",
    "training_results = pd.DataFrame(index=range(1,number_of_epochs+1))\n",
    "training_results['Training'] = model_history['categorical_accuracy']\n",
    "training_results['Validation'] = model_history['val_categorical_accuracy']\n",
    "training_results.plot(title = 'Performance Across Training and Validation')"
   ]
  },
  {
   "cell_type": "code",
   "execution_count": null,
   "id": "8fa97e97-c1e3-4ba5-b50b-ac885d23ebfd",
   "metadata": {},
   "outputs": [],
   "source": []
  }
 ],
 "metadata": {
  "kernelspec": {
   "display_name": "Python 3 (ipykernel)",
   "language": "python",
   "name": "python3"
  },
  "language_info": {
   "codemirror_mode": {
    "name": "ipython",
    "version": 3
   },
   "file_extension": ".py",
   "mimetype": "text/x-python",
   "name": "python",
   "nbconvert_exporter": "python",
   "pygments_lexer": "ipython3",
   "version": "3.7.13"
  }
 },
 "nbformat": 4,
 "nbformat_minor": 5
}
