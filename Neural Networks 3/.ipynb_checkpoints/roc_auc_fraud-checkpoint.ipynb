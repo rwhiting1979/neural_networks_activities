{
 "cells": [
  {
   "cell_type": "markdown",
   "metadata": {},
   "source": [
    "# Instructor Do: Intro to the ROC Curve and AUC\n",
    "\n",
    "In this activity, students will learn how to measure the performance of a binary classification model by fetching metrics from Keras, as well as plotting and interpreting the ROC curve and AUC."
   ]
  },
  {
   "cell_type": "code",
   "execution_count": 6,
   "metadata": {},
   "outputs": [],
   "source": [
    "# Initial imports\n",
    "import pandas as pd\n",
    "import numpy as np\n",
    "import matplotlib.pyplot as plt\n",
    "import tensorflow as tf\n",
    "from pathlib import Path\n",
    "\n",
    "%matplotlib inline"
   ]
  },
  {
   "cell_type": "markdown",
   "metadata": {},
   "source": [
    "## The Dataset\n",
    "\n",
    "The data provided for this demo contains anonymous information about `284807` credit card transactions made by European credit cardholders in September 2013.\n",
    "\n",
    "The dataset is going to be used to create a binary classification model using a deep neural network to detect fraudulent transactions. It contains nine numerical variables, which are the result of PCA transformation to protect the confidentiality of credit cardholders. Only the transaction amount can be seen as is.\n",
    "\n",
    "This dataset is an abstract of the file shared by the [Machine Learning Group](http://mlg.ulb.ac.be) of the Université Libre de Bruxelles (ULB)."
   ]
  },
  {
   "cell_type": "code",
   "execution_count": 7,
   "metadata": {},
   "outputs": [
    {
     "data": {
      "text/html": [
       "<div>\n",
       "<style scoped>\n",
       "    .dataframe tbody tr th:only-of-type {\n",
       "        vertical-align: middle;\n",
       "    }\n",
       "\n",
       "    .dataframe tbody tr th {\n",
       "        vertical-align: top;\n",
       "    }\n",
       "\n",
       "    .dataframe thead th {\n",
       "        text-align: right;\n",
       "    }\n",
       "</style>\n",
       "<table border=\"1\" class=\"dataframe\">\n",
       "  <thead>\n",
       "    <tr style=\"text-align: right;\">\n",
       "      <th></th>\n",
       "      <th>V1</th>\n",
       "      <th>V2</th>\n",
       "      <th>V3</th>\n",
       "      <th>V4</th>\n",
       "      <th>V5</th>\n",
       "      <th>V6</th>\n",
       "      <th>V7</th>\n",
       "      <th>V8</th>\n",
       "      <th>V9</th>\n",
       "      <th>Amount</th>\n",
       "      <th>Class</th>\n",
       "    </tr>\n",
       "  </thead>\n",
       "  <tbody>\n",
       "    <tr>\n",
       "      <th>0</th>\n",
       "      <td>-1.359807</td>\n",
       "      <td>-0.072781</td>\n",
       "      <td>2.536347</td>\n",
       "      <td>1.378155</td>\n",
       "      <td>-0.338321</td>\n",
       "      <td>0.462388</td>\n",
       "      <td>0.239599</td>\n",
       "      <td>0.098698</td>\n",
       "      <td>0.363787</td>\n",
       "      <td>149.62</td>\n",
       "      <td>0</td>\n",
       "    </tr>\n",
       "    <tr>\n",
       "      <th>1</th>\n",
       "      <td>1.191857</td>\n",
       "      <td>0.266151</td>\n",
       "      <td>0.166480</td>\n",
       "      <td>0.448154</td>\n",
       "      <td>0.060018</td>\n",
       "      <td>-0.082361</td>\n",
       "      <td>-0.078803</td>\n",
       "      <td>0.085102</td>\n",
       "      <td>-0.255425</td>\n",
       "      <td>2.69</td>\n",
       "      <td>0</td>\n",
       "    </tr>\n",
       "    <tr>\n",
       "      <th>2</th>\n",
       "      <td>-1.358354</td>\n",
       "      <td>-1.340163</td>\n",
       "      <td>1.773209</td>\n",
       "      <td>0.379780</td>\n",
       "      <td>-0.503198</td>\n",
       "      <td>1.800499</td>\n",
       "      <td>0.791461</td>\n",
       "      <td>0.247676</td>\n",
       "      <td>-1.514654</td>\n",
       "      <td>378.66</td>\n",
       "      <td>0</td>\n",
       "    </tr>\n",
       "    <tr>\n",
       "      <th>3</th>\n",
       "      <td>-0.966272</td>\n",
       "      <td>-0.185226</td>\n",
       "      <td>1.792993</td>\n",
       "      <td>-0.863291</td>\n",
       "      <td>-0.010309</td>\n",
       "      <td>1.247203</td>\n",
       "      <td>0.237609</td>\n",
       "      <td>0.377436</td>\n",
       "      <td>-1.387024</td>\n",
       "      <td>123.50</td>\n",
       "      <td>0</td>\n",
       "    </tr>\n",
       "    <tr>\n",
       "      <th>4</th>\n",
       "      <td>-1.158233</td>\n",
       "      <td>0.877737</td>\n",
       "      <td>1.548718</td>\n",
       "      <td>0.403034</td>\n",
       "      <td>-0.407193</td>\n",
       "      <td>0.095921</td>\n",
       "      <td>0.592941</td>\n",
       "      <td>-0.270533</td>\n",
       "      <td>0.817739</td>\n",
       "      <td>69.99</td>\n",
       "      <td>0</td>\n",
       "    </tr>\n",
       "  </tbody>\n",
       "</table>\n",
       "</div>"
      ],
      "text/plain": [
       "         V1        V2        V3        V4        V5        V6        V7  \\\n",
       "0 -1.359807 -0.072781  2.536347  1.378155 -0.338321  0.462388  0.239599   \n",
       "1  1.191857  0.266151  0.166480  0.448154  0.060018 -0.082361 -0.078803   \n",
       "2 -1.358354 -1.340163  1.773209  0.379780 -0.503198  1.800499  0.791461   \n",
       "3 -0.966272 -0.185226  1.792993 -0.863291 -0.010309  1.247203  0.237609   \n",
       "4 -1.158233  0.877737  1.548718  0.403034 -0.407193  0.095921  0.592941   \n",
       "\n",
       "         V8        V9  Amount  Class  \n",
       "0  0.098698  0.363787  149.62      0  \n",
       "1  0.085102 -0.255425    2.69      0  \n",
       "2  0.247676 -1.514654  378.66      0  \n",
       "3  0.377436 -1.387024  123.50      0  \n",
       "4 -0.270533  0.817739   69.99      0  "
      ]
     },
     "execution_count": 7,
     "metadata": {},
     "output_type": "execute_result"
    }
   ],
   "source": [
    "# Import the dataset\n",
    "file_path = Path(\"transactions.csv\")\n",
    "transactions_df = pd.read_csv(file_path)\n",
    "transactions_df.head()"
   ]
  },
  {
   "cell_type": "markdown",
   "metadata": {},
   "source": [
    "## Data Preprocessing"
   ]
  },
  {
   "cell_type": "code",
   "execution_count": 8,
   "metadata": {},
   "outputs": [],
   "source": [
    "# Creating the X and y sets\n",
    "X = transactions_df.iloc[:, 0:10].values\n",
    "y = transactions_df[\"Class\"].values"
   ]
  },
  {
   "cell_type": "code",
   "execution_count": 9,
   "metadata": {},
   "outputs": [],
   "source": [
    "# Creating training, validation, and testing sets\n",
    "from sklearn.model_selection import train_test_split\n",
    "\n",
    "X_train, X_test, y_train, y_test = train_test_split(X, y, random_state=78)\n",
    "\n",
    "X_train, X_val, y_train, y_val = train_test_split(X_train, y_train, random_state=78)"
   ]
  },
  {
   "cell_type": "code",
   "execution_count": 10,
   "metadata": {},
   "outputs": [],
   "source": [
    "# Import the StandardScaler from sklearn\n",
    "from sklearn.preprocessing import StandardScaler\n",
    "\n",
    "# Scale the data\n",
    "scaler = StandardScaler().fit(X_train)\n",
    "X_train = scaler.transform(X_train)"
   ]
  },
  {
   "cell_type": "markdown",
   "metadata": {},
   "source": [
    "## Build and Train the Deep Learning Model"
   ]
  },
  {
   "cell_type": "markdown",
   "metadata": {},
   "source": [
    " ### Importing the Keras Modules"
   ]
  },
  {
   "cell_type": "code",
   "execution_count": 12,
   "metadata": {},
   "outputs": [],
   "source": [
    "# Import Keras modules for model creation\n",
    "from tensorflow.keras.models import Sequential\n",
    "from tensorflow.keras.layers import Dense"
   ]
  },
  {
   "cell_type": "markdown",
   "metadata": {},
   "source": [
    " ### Setting Up the Model"
   ]
  },
  {
   "cell_type": "code",
   "execution_count": 13,
   "metadata": {},
   "outputs": [],
   "source": [
    "# Model set-up\n",
    "number_input_features = 10\n",
    "hidden_nodes_layer1 = 15\n",
    "hidden_nodes_layer2 = 5"
   ]
  },
  {
   "cell_type": "markdown",
   "metadata": {},
   "source": [
    " ### Defining the Model's Structure"
   ]
  },
  {
   "cell_type": "code",
   "execution_count": 14,
   "metadata": {},
   "outputs": [],
   "source": [
    "# Define the LSTM RNN model\n",
    "model = Sequential()\n",
    "\n",
    "# Layer 1\n",
    "model.add(\n",
    "    Dense(units=hidden_nodes_layer1, input_dim=number_input_features, activation=\"relu\")\n",
    ")\n",
    "\n",
    "# Layer 2\n",
    "model.add(Dense(units=hidden_nodes_layer2, activation=\"relu\"))\n",
    "\n",
    "# Output layer\n",
    "model.add(Dense(1, activation=\"sigmoid\"))"
   ]
  },
  {
   "cell_type": "markdown",
   "metadata": {},
   "source": [
    " ### Compiling the Model"
   ]
  },
  {
   "cell_type": "code",
   "execution_count": 15,
   "metadata": {},
   "outputs": [],
   "source": [
    "# Compile the model\n",
    "model.compile(\n",
    "    loss=\"binary_crossentropy\",\n",
    "    optimizer=\"adam\",\n",
    "    metrics=[\n",
    "        \"accuracy\",\n",
    "        tf.keras.metrics.TruePositives(name=\"tp\"),\n",
    "        tf.keras.metrics.TrueNegatives(name=\"tn\"),\n",
    "        tf.keras.metrics.FalsePositives(name=\"fp\"),\n",
    "        tf.keras.metrics.FalseNegatives(name=\"fn\"),\n",
    "        tf.keras.metrics.Precision(name=\"precision\"),\n",
    "        tf.keras.metrics.Recall(name=\"recall\"),\n",
    "        tf.keras.metrics.AUC(name=\"auc\"),\n",
    "    ],\n",
    ")"
   ]
  },
  {
   "cell_type": "code",
   "execution_count": 16,
   "metadata": {},
   "outputs": [
    {
     "name": "stdout",
     "output_type": "stream",
     "text": [
      "Model: \"sequential\"\n",
      "_________________________________________________________________\n",
      " Layer (type)                Output Shape              Param #   \n",
      "=================================================================\n",
      " dense (Dense)               (None, 15)                165       \n",
      "                                                                 \n",
      " dense_1 (Dense)             (None, 5)                 80        \n",
      "                                                                 \n",
      " dense_2 (Dense)             (None, 1)                 6         \n",
      "                                                                 \n",
      "=================================================================\n",
      "Total params: 251\n",
      "Trainable params: 251\n",
      "Non-trainable params: 0\n",
      "_________________________________________________________________\n"
     ]
    }
   ],
   "source": [
    "# Summarize the model\n",
    "model.summary()"
   ]
  },
  {
   "cell_type": "markdown",
   "metadata": {},
   "source": [
    " ### Training the Model"
   ]
  },
  {
   "cell_type": "code",
   "execution_count": 18,
   "metadata": {},
   "outputs": [
    {
     "name": "stdout",
     "output_type": "stream",
     "text": [
      "Epoch 1/50\n",
      "161/161 [==============================] - 1s 4ms/step - loss: 0.4779 - accuracy: 0.8652 - tp: 41.0000 - tn: 138571.0000 - fp: 21375.0000 - fn: 216.0000 - precision: 0.0019 - recall: 0.1595 - auc: 0.6743 - val_loss: 0.5831 - val_accuracy: 0.9873 - val_tp: 1.0000 - val_tn: 52725.0000 - val_fp: 572.0000 - val_fn: 104.0000 - val_precision: 0.0017 - val_recall: 0.0095 - val_auc: 0.4312\n",
      "Epoch 2/50\n",
      "161/161 [==============================] - 0s 2ms/step - loss: 0.1296 - accuracy: 0.9980 - tp: 0.0000e+00 - tn: 159877.0000 - fp: 69.0000 - fn: 257.0000 - precision: 0.0000e+00 - recall: 0.0000e+00 - auc: 0.5159 - val_loss: 0.4543 - val_accuracy: 0.9945 - val_tp: 3.0000 - val_tn: 53104.0000 - val_fp: 193.0000 - val_fn: 102.0000 - val_precision: 0.0153 - val_recall: 0.0286 - val_auc: 0.4492\n",
      "Epoch 3/50\n",
      "161/161 [==============================] - 0s 2ms/step - loss: 0.0410 - accuracy: 0.9984 - tp: 2.0000 - tn: 159946.0000 - fp: 0.0000e+00 - fn: 255.0000 - precision: 1.0000 - recall: 0.0078 - auc: 0.6314 - val_loss: 0.1274 - val_accuracy: 0.9957 - val_tp: 3.0000 - val_tn: 53172.0000 - val_fp: 125.0000 - val_fn: 102.0000 - val_precision: 0.0234 - val_recall: 0.0286 - val_auc: 0.5478\n",
      "Epoch 4/50\n",
      "161/161 [==============================] - 0s 2ms/step - loss: 0.0200 - accuracy: 0.9984 - tp: 5.0000 - tn: 159946.0000 - fp: 0.0000e+00 - fn: 252.0000 - precision: 1.0000 - recall: 0.0195 - auc: 0.8195 - val_loss: 0.0968 - val_accuracy: 0.9969 - val_tp: 3.0000 - val_tn: 53234.0000 - val_fp: 63.0000 - val_fn: 102.0000 - val_precision: 0.0455 - val_recall: 0.0286 - val_auc: 0.5903\n",
      "Epoch 5/50\n",
      "161/161 [==============================] - 0s 2ms/step - loss: 0.0127 - accuracy: 0.9984 - tp: 8.0000 - tn: 159946.0000 - fp: 0.0000e+00 - fn: 249.0000 - precision: 1.0000 - recall: 0.0311 - auc: 0.8575 - val_loss: 0.0893 - val_accuracy: 0.9972 - val_tp: 4.0000 - val_tn: 53248.0000 - val_fp: 49.0000 - val_fn: 101.0000 - val_precision: 0.0755 - val_recall: 0.0381 - val_auc: 0.6300\n",
      "Epoch 6/50\n",
      "161/161 [==============================] - 0s 2ms/step - loss: 0.0095 - accuracy: 0.9985 - tp: 12.0000 - tn: 159946.0000 - fp: 0.0000e+00 - fn: 245.0000 - precision: 1.0000 - recall: 0.0467 - auc: 0.8782 - val_loss: 0.0884 - val_accuracy: 0.9973 - val_tp: 6.0000 - val_tn: 53251.0000 - val_fp: 46.0000 - val_fn: 99.0000 - val_precision: 0.1154 - val_recall: 0.0571 - val_auc: 0.6571\n",
      "Epoch 7/50\n",
      "161/161 [==============================] - 0s 2ms/step - loss: 0.0078 - accuracy: 0.9985 - tp: 21.0000 - tn: 159946.0000 - fp: 0.0000e+00 - fn: 236.0000 - precision: 1.0000 - recall: 0.0817 - auc: 0.8932 - val_loss: 0.0891 - val_accuracy: 0.9969 - val_tp: 11.0000 - val_tn: 53227.0000 - val_fp: 70.0000 - val_fn: 94.0000 - val_precision: 0.1358 - val_recall: 0.1048 - val_auc: 0.6853\n",
      "Epoch 8/50\n",
      "161/161 [==============================] - 0s 2ms/step - loss: 0.0068 - accuracy: 0.9987 - tp: 54.0000 - tn: 159937.0000 - fp: 9.0000 - fn: 203.0000 - precision: 0.8571 - recall: 0.2101 - auc: 0.8977 - val_loss: 0.0891 - val_accuracy: 0.9962 - val_tp: 19.0000 - val_tn: 53179.0000 - val_fp: 118.0000 - val_fn: 86.0000 - val_precision: 0.1387 - val_recall: 0.1810 - val_auc: 0.7021\n",
      "Epoch 9/50\n",
      "161/161 [==============================] - 0s 2ms/step - loss: 0.0060 - accuracy: 0.9989 - tp: 95.0000 - tn: 159930.0000 - fp: 16.0000 - fn: 162.0000 - precision: 0.8559 - recall: 0.3696 - auc: 0.8993 - val_loss: 0.0894 - val_accuracy: 0.9956 - val_tp: 20.0000 - val_tn: 53146.0000 - val_fp: 151.0000 - val_fn: 85.0000 - val_precision: 0.1170 - val_recall: 0.1905 - val_auc: 0.7145\n",
      "Epoch 10/50\n",
      "161/161 [==============================] - 0s 2ms/step - loss: 0.0055 - accuracy: 0.9990 - tp: 109.0000 - tn: 159928.0000 - fp: 18.0000 - fn: 148.0000 - precision: 0.8583 - recall: 0.4241 - auc: 0.8925 - val_loss: 0.0886 - val_accuracy: 0.9952 - val_tp: 20.0000 - val_tn: 53127.0000 - val_fp: 170.0000 - val_fn: 85.0000 - val_precision: 0.1053 - val_recall: 0.1905 - val_auc: 0.7275\n",
      "Epoch 11/50\n",
      "161/161 [==============================] - 0s 2ms/step - loss: 0.0052 - accuracy: 0.9990 - tp: 115.0000 - tn: 159928.0000 - fp: 18.0000 - fn: 142.0000 - precision: 0.8647 - recall: 0.4475 - auc: 0.8940 - val_loss: 0.0880 - val_accuracy: 0.9947 - val_tp: 23.0000 - val_tn: 53095.0000 - val_fp: 202.0000 - val_fn: 82.0000 - val_precision: 0.1022 - val_recall: 0.2190 - val_auc: 0.7315\n",
      "Epoch 12/50\n",
      "161/161 [==============================] - 0s 2ms/step - loss: 0.0049 - accuracy: 0.9990 - tp: 118.0000 - tn: 159927.0000 - fp: 19.0000 - fn: 139.0000 - precision: 0.8613 - recall: 0.4591 - auc: 0.8988 - val_loss: 0.0847 - val_accuracy: 0.9948 - val_tp: 25.0000 - val_tn: 53099.0000 - val_fp: 198.0000 - val_fn: 80.0000 - val_precision: 0.1121 - val_recall: 0.2381 - val_auc: 0.7335\n",
      "Epoch 13/50\n",
      "161/161 [==============================] - 0s 2ms/step - loss: 0.0047 - accuracy: 0.9990 - tp: 120.0000 - tn: 159927.0000 - fp: 19.0000 - fn: 137.0000 - precision: 0.8633 - recall: 0.4669 - auc: 0.8955 - val_loss: 0.0825 - val_accuracy: 0.9943 - val_tp: 27.0000 - val_tn: 53071.0000 - val_fp: 226.0000 - val_fn: 78.0000 - val_precision: 0.1067 - val_recall: 0.2571 - val_auc: 0.7306\n",
      "Epoch 14/50\n",
      "161/161 [==============================] - 0s 2ms/step - loss: 0.0046 - accuracy: 0.9990 - tp: 122.0000 - tn: 159926.0000 - fp: 20.0000 - fn: 135.0000 - precision: 0.8592 - recall: 0.4747 - auc: 0.8979 - val_loss: 0.0802 - val_accuracy: 0.9941 - val_tp: 31.0000 - val_tn: 53056.0000 - val_fp: 241.0000 - val_fn: 74.0000 - val_precision: 0.1140 - val_recall: 0.2952 - val_auc: 0.7315\n",
      "Epoch 15/50\n",
      "161/161 [==============================] - 0s 2ms/step - loss: 0.0045 - accuracy: 0.9991 - tp: 126.0000 - tn: 159926.0000 - fp: 20.0000 - fn: 131.0000 - precision: 0.8630 - recall: 0.4903 - auc: 0.9001 - val_loss: 0.0773 - val_accuracy: 0.9934 - val_tp: 32.0000 - val_tn: 53017.0000 - val_fp: 280.0000 - val_fn: 73.0000 - val_precision: 0.1026 - val_recall: 0.3048 - val_auc: 0.7356\n",
      "Epoch 16/50\n",
      "161/161 [==============================] - 0s 2ms/step - loss: 0.0044 - accuracy: 0.9991 - tp: 125.0000 - tn: 159926.0000 - fp: 20.0000 - fn: 132.0000 - precision: 0.8621 - recall: 0.4864 - auc: 0.9023 - val_loss: 0.0747 - val_accuracy: 0.9933 - val_tp: 32.0000 - val_tn: 53014.0000 - val_fp: 283.0000 - val_fn: 73.0000 - val_precision: 0.1016 - val_recall: 0.3048 - val_auc: 0.7355\n",
      "Epoch 17/50\n",
      "161/161 [==============================] - 0s 2ms/step - loss: 0.0043 - accuracy: 0.9991 - tp: 125.0000 - tn: 159926.0000 - fp: 20.0000 - fn: 132.0000 - precision: 0.8621 - recall: 0.4864 - auc: 0.9082 - val_loss: 0.0732 - val_accuracy: 0.9926 - val_tp: 32.0000 - val_tn: 52974.0000 - val_fp: 323.0000 - val_fn: 73.0000 - val_precision: 0.0901 - val_recall: 0.3048 - val_auc: 0.7503\n",
      "Epoch 18/50\n",
      "161/161 [==============================] - 0s 2ms/step - loss: 0.0043 - accuracy: 0.9991 - tp: 128.0000 - tn: 159926.0000 - fp: 20.0000 - fn: 129.0000 - precision: 0.8649 - recall: 0.4981 - auc: 0.9105 - val_loss: 0.0718 - val_accuracy: 0.9922 - val_tp: 34.0000 - val_tn: 52954.0000 - val_fp: 343.0000 - val_fn: 71.0000 - val_precision: 0.0902 - val_recall: 0.3238 - val_auc: 0.7620\n",
      "Epoch 19/50\n",
      "161/161 [==============================] - 0s 2ms/step - loss: 0.0042 - accuracy: 0.9991 - tp: 135.0000 - tn: 159925.0000 - fp: 21.0000 - fn: 122.0000 - precision: 0.8654 - recall: 0.5253 - auc: 0.9106 - val_loss: 0.0705 - val_accuracy: 0.9915 - val_tp: 41.0000 - val_tn: 52909.0000 - val_fp: 388.0000 - val_fn: 64.0000 - val_precision: 0.0956 - val_recall: 0.3905 - val_auc: 0.7711\n",
      "Epoch 20/50\n",
      "161/161 [==============================] - 0s 2ms/step - loss: 0.0041 - accuracy: 0.9992 - tp: 143.0000 - tn: 159926.0000 - fp: 20.0000 - fn: 114.0000 - precision: 0.8773 - recall: 0.5564 - auc: 0.9126 - val_loss: 0.0686 - val_accuracy: 0.9904 - val_tp: 44.0000 - val_tn: 52846.0000 - val_fp: 451.0000 - val_fn: 61.0000 - val_precision: 0.0889 - val_recall: 0.4190 - val_auc: 0.7770\n",
      "Epoch 21/50\n",
      "161/161 [==============================] - 0s 2ms/step - loss: 0.0041 - accuracy: 0.9992 - tp: 147.0000 - tn: 159925.0000 - fp: 21.0000 - fn: 110.0000 - precision: 0.8750 - recall: 0.5720 - auc: 0.9146 - val_loss: 0.0682 - val_accuracy: 0.9889 - val_tp: 47.0000 - val_tn: 52760.0000 - val_fp: 537.0000 - val_fn: 58.0000 - val_precision: 0.0805 - val_recall: 0.4476 - val_auc: 0.7839\n",
      "Epoch 22/50\n",
      "161/161 [==============================] - 0s 2ms/step - loss: 0.0040 - accuracy: 0.9992 - tp: 149.0000 - tn: 159925.0000 - fp: 21.0000 - fn: 108.0000 - precision: 0.8765 - recall: 0.5798 - auc: 0.9148 - val_loss: 0.0695 - val_accuracy: 0.9869 - val_tp: 52.0000 - val_tn: 52650.0000 - val_fp: 647.0000 - val_fn: 53.0000 - val_precision: 0.0744 - val_recall: 0.4952 - val_auc: 0.7889\n",
      "Epoch 23/50\n",
      "161/161 [==============================] - 0s 2ms/step - loss: 0.0040 - accuracy: 0.9993 - tp: 160.0000 - tn: 159925.0000 - fp: 21.0000 - fn: 97.0000 - precision: 0.8840 - recall: 0.6226 - auc: 0.9148 - val_loss: 0.0732 - val_accuracy: 0.9826 - val_tp: 55.0000 - val_tn: 52418.0000 - val_fp: 879.0000 - val_fn: 50.0000 - val_precision: 0.0589 - val_recall: 0.5238 - val_auc: 0.8054\n",
      "Epoch 24/50\n",
      "161/161 [==============================] - 0s 2ms/step - loss: 0.0039 - accuracy: 0.9993 - tp: 165.0000 - tn: 159924.0000 - fp: 22.0000 - fn: 92.0000 - precision: 0.8824 - recall: 0.6420 - auc: 0.9186 - val_loss: 0.0727 - val_accuracy: 0.9826 - val_tp: 55.0000 - val_tn: 52417.0000 - val_fp: 880.0000 - val_fn: 50.0000 - val_precision: 0.0588 - val_recall: 0.5238 - val_auc: 0.8006\n",
      "Epoch 25/50\n",
      "161/161 [==============================] - 0s 2ms/step - loss: 0.0039 - accuracy: 0.9993 - tp: 166.0000 - tn: 159923.0000 - fp: 23.0000 - fn: 91.0000 - precision: 0.8783 - recall: 0.6459 - auc: 0.9168 - val_loss: 0.0779 - val_accuracy: 0.9788 - val_tp: 59.0000 - val_tn: 52212.0000 - val_fp: 1085.0000 - val_fn: 46.0000 - val_precision: 0.0516 - val_recall: 0.5619 - val_auc: 0.8024\n",
      "Epoch 26/50\n",
      "161/161 [==============================] - 0s 2ms/step - loss: 0.0038 - accuracy: 0.9993 - tp: 167.0000 - tn: 159924.0000 - fp: 22.0000 - fn: 90.0000 - precision: 0.8836 - recall: 0.6498 - auc: 0.9169 - val_loss: 0.0824 - val_accuracy: 0.9759 - val_tp: 63.0000 - val_tn: 52054.0000 - val_fp: 1243.0000 - val_fn: 42.0000 - val_precision: 0.0482 - val_recall: 0.6000 - val_auc: 0.8167\n",
      "Epoch 27/50\n",
      "161/161 [==============================] - 0s 2ms/step - loss: 0.0038 - accuracy: 0.9993 - tp: 168.0000 - tn: 159920.0000 - fp: 26.0000 - fn: 89.0000 - precision: 0.8660 - recall: 0.6537 - auc: 0.9169 - val_loss: 0.0826 - val_accuracy: 0.9734 - val_tp: 67.0000 - val_tn: 51913.0000 - val_fp: 1384.0000 - val_fn: 38.0000 - val_precision: 0.0462 - val_recall: 0.6381 - val_auc: 0.8169\n",
      "Epoch 28/50\n",
      "161/161 [==============================] - 0s 2ms/step - loss: 0.0037 - accuracy: 0.9993 - tp: 169.0000 - tn: 159922.0000 - fp: 24.0000 - fn: 88.0000 - precision: 0.8756 - recall: 0.6576 - auc: 0.9189 - val_loss: 0.0932 - val_accuracy: 0.9667 - val_tp: 69.0000 - val_tn: 51555.0000 - val_fp: 1742.0000 - val_fn: 36.0000 - val_precision: 0.0381 - val_recall: 0.6571 - val_auc: 0.8312\n",
      "Epoch 29/50\n",
      "161/161 [==============================] - 0s 2ms/step - loss: 0.0037 - accuracy: 0.9993 - tp: 169.0000 - tn: 159923.0000 - fp: 23.0000 - fn: 88.0000 - precision: 0.8802 - recall: 0.6576 - auc: 0.9208 - val_loss: 0.1037 - val_accuracy: 0.9566 - val_tp: 71.0000 - val_tn: 51016.0000 - val_fp: 2281.0000 - val_fn: 34.0000 - val_precision: 0.0302 - val_recall: 0.6762 - val_auc: 0.8354\n",
      "Epoch 30/50\n",
      "161/161 [==============================] - 0s 2ms/step - loss: 0.0037 - accuracy: 0.9993 - tp: 170.0000 - tn: 159923.0000 - fp: 23.0000 - fn: 87.0000 - precision: 0.8808 - recall: 0.6615 - auc: 0.9209 - val_loss: 0.1319 - val_accuracy: 0.9396 - val_tp: 78.0000 - val_tn: 50097.0000 - val_fp: 3200.0000 - val_fn: 27.0000 - val_precision: 0.0238 - val_recall: 0.7429 - val_auc: 0.8753\n",
      "Epoch 31/50\n",
      "161/161 [==============================] - 0s 2ms/step - loss: 0.0036 - accuracy: 0.9993 - tp: 172.0000 - tn: 159923.0000 - fp: 23.0000 - fn: 85.0000 - precision: 0.8821 - recall: 0.6693 - auc: 0.9229 - val_loss: 0.1936 - val_accuracy: 0.9113 - val_tp: 82.0000 - val_tn: 48584.0000 - val_fp: 4713.0000 - val_fn: 23.0000 - val_precision: 0.0171 - val_recall: 0.7810 - val_auc: 0.9000\n",
      "Epoch 32/50\n",
      "161/161 [==============================] - 0s 2ms/step - loss: 0.0036 - accuracy: 0.9993 - tp: 173.0000 - tn: 159922.0000 - fp: 24.0000 - fn: 84.0000 - precision: 0.8782 - recall: 0.6732 - auc: 0.9209 - val_loss: 0.1605 - val_accuracy: 0.9296 - val_tp: 81.0000 - val_tn: 49559.0000 - val_fp: 3738.0000 - val_fn: 24.0000 - val_precision: 0.0212 - val_recall: 0.7714 - val_auc: 0.8767\n",
      "Epoch 33/50\n",
      "161/161 [==============================] - 0s 2ms/step - loss: 0.0036 - accuracy: 0.9993 - tp: 170.0000 - tn: 159926.0000 - fp: 20.0000 - fn: 87.0000 - precision: 0.8947 - recall: 0.6615 - auc: 0.9229 - val_loss: 1.0240 - val_accuracy: 0.7579 - val_tp: 90.0000 - val_tn: 40384.0000 - val_fp: 12913.0000 - val_fn: 15.0000 - val_precision: 0.0069 - val_recall: 0.8571 - val_auc: 0.8602\n",
      "Epoch 34/50\n",
      "161/161 [==============================] - 0s 2ms/step - loss: 0.0035 - accuracy: 0.9993 - tp: 173.0000 - tn: 159923.0000 - fp: 23.0000 - fn: 84.0000 - precision: 0.8827 - recall: 0.6732 - auc: 0.9210 - val_loss: 1.7580 - val_accuracy: 0.6932 - val_tp: 91.0000 - val_tn: 36927.0000 - val_fp: 16370.0000 - val_fn: 14.0000 - val_precision: 0.0055 - val_recall: 0.8667 - val_auc: 0.8188\n",
      "Epoch 35/50\n",
      "161/161 [==============================] - 0s 2ms/step - loss: 0.0035 - accuracy: 0.9993 - tp: 171.0000 - tn: 159923.0000 - fp: 23.0000 - fn: 86.0000 - precision: 0.8814 - recall: 0.6654 - auc: 0.9229 - val_loss: 2.1242 - val_accuracy: 0.6694 - val_tp: 91.0000 - val_tn: 35657.0000 - val_fp: 17640.0000 - val_fn: 14.0000 - val_precision: 0.0051 - val_recall: 0.8667 - val_auc: 0.8079\n",
      "Epoch 36/50\n",
      "161/161 [==============================] - 0s 2ms/step - loss: 0.0035 - accuracy: 0.9993 - tp: 173.0000 - tn: 159924.0000 - fp: 22.0000 - fn: 84.0000 - precision: 0.8872 - recall: 0.6732 - auc: 0.9210 - val_loss: 3.3671 - val_accuracy: 0.6039 - val_tp: 91.0000 - val_tn: 32158.0000 - val_fp: 21139.0000 - val_fn: 14.0000 - val_precision: 0.0043 - val_recall: 0.8667 - val_auc: 0.7721\n",
      "Epoch 37/50\n",
      "161/161 [==============================] - 0s 2ms/step - loss: 0.0035 - accuracy: 0.9993 - tp: 172.0000 - tn: 159924.0000 - fp: 22.0000 - fn: 85.0000 - precision: 0.8866 - recall: 0.6693 - auc: 0.9269 - val_loss: 5.9071 - val_accuracy: 0.5037 - val_tp: 92.0000 - val_tn: 26806.0000 - val_fp: 26491.0000 - val_fn: 13.0000 - val_precision: 0.0035 - val_recall: 0.8762 - val_auc: 0.7135\n",
      "Epoch 38/50\n",
      "161/161 [==============================] - 0s 2ms/step - loss: 0.0034 - accuracy: 0.9994 - tp: 177.0000 - tn: 159924.0000 - fp: 22.0000 - fn: 80.0000 - precision: 0.8894 - recall: 0.6887 - auc: 0.9249 - val_loss: 5.9623 - val_accuracy: 0.5058 - val_tp: 92.0000 - val_tn: 26918.0000 - val_fp: 26379.0000 - val_fn: 13.0000 - val_precision: 0.0035 - val_recall: 0.8762 - val_auc: 0.7090\n",
      "Epoch 39/50\n",
      "161/161 [==============================] - 0s 2ms/step - loss: 0.0034 - accuracy: 0.9994 - tp: 175.0000 - tn: 159926.0000 - fp: 20.0000 - fn: 82.0000 - precision: 0.8974 - recall: 0.6809 - auc: 0.9269 - val_loss: 6.4719 - val_accuracy: 0.4843 - val_tp: 92.0000 - val_tn: 25770.0000 - val_fp: 27527.0000 - val_fn: 13.0000 - val_precision: 0.0033 - val_recall: 0.8762 - val_auc: 0.6948\n",
      "Epoch 40/50\n",
      "161/161 [==============================] - 0s 2ms/step - loss: 0.0034 - accuracy: 0.9993 - tp: 173.0000 - tn: 159925.0000 - fp: 21.0000 - fn: 84.0000 - precision: 0.8918 - recall: 0.6732 - auc: 0.9269 - val_loss: 6.8731 - val_accuracy: 0.4536 - val_tp: 92.0000 - val_tn: 24132.0000 - val_fp: 29165.0000 - val_fn: 13.0000 - val_precision: 0.0031 - val_recall: 0.8762 - val_auc: 0.6781\n",
      "Epoch 41/50\n",
      "161/161 [==============================] - 0s 2ms/step - loss: 0.0034 - accuracy: 0.9994 - tp: 177.0000 - tn: 159923.0000 - fp: 23.0000 - fn: 80.0000 - precision: 0.8850 - recall: 0.6887 - auc: 0.9308 - val_loss: 6.7653 - val_accuracy: 0.4830 - val_tp: 93.0000 - val_tn: 25700.0000 - val_fp: 27597.0000 - val_fn: 12.0000 - val_precision: 0.0034 - val_recall: 0.8857 - val_auc: 0.6941\n",
      "Epoch 42/50\n",
      "161/161 [==============================] - 0s 2ms/step - loss: 0.0033 - accuracy: 0.9994 - tp: 179.0000 - tn: 159921.0000 - fp: 25.0000 - fn: 78.0000 - precision: 0.8775 - recall: 0.6965 - auc: 0.9327 - val_loss: 6.5068 - val_accuracy: 0.4566 - val_tp: 92.0000 - val_tn: 24291.0000 - val_fp: 29006.0000 - val_fn: 13.0000 - val_precision: 0.0032 - val_recall: 0.8762 - val_auc: 0.6759\n",
      "Epoch 43/50\n",
      "161/161 [==============================] - 0s 2ms/step - loss: 0.0033 - accuracy: 0.9993 - tp: 174.0000 - tn: 159921.0000 - fp: 25.0000 - fn: 83.0000 - precision: 0.8744 - recall: 0.6770 - auc: 0.9328 - val_loss: 6.5602 - val_accuracy: 0.4509 - val_tp: 92.0000 - val_tn: 23987.0000 - val_fp: 29310.0000 - val_fn: 13.0000 - val_precision: 0.0031 - val_recall: 0.8762 - val_auc: 0.6782\n",
      "Epoch 44/50\n",
      "161/161 [==============================] - 0s 2ms/step - loss: 0.0033 - accuracy: 0.9994 - tp: 178.0000 - tn: 159923.0000 - fp: 23.0000 - fn: 79.0000 - precision: 0.8856 - recall: 0.6926 - auc: 0.9308 - val_loss: 6.3287 - val_accuracy: 0.4741 - val_tp: 92.0000 - val_tn: 25226.0000 - val_fp: 28071.0000 - val_fn: 13.0000 - val_precision: 0.0033 - val_recall: 0.8762 - val_auc: 0.6819\n",
      "Epoch 45/50\n",
      "161/161 [==============================] - 0s 2ms/step - loss: 0.0033 - accuracy: 0.9994 - tp: 178.0000 - tn: 159923.0000 - fp: 23.0000 - fn: 79.0000 - precision: 0.8856 - recall: 0.6926 - auc: 0.9347 - val_loss: 7.1469 - val_accuracy: 0.4655 - val_tp: 92.0000 - val_tn: 24767.0000 - val_fp: 28530.0000 - val_fn: 13.0000 - val_precision: 0.0032 - val_recall: 0.8762 - val_auc: 0.6759\n",
      "Epoch 46/50\n",
      "161/161 [==============================] - 0s 2ms/step - loss: 0.0033 - accuracy: 0.9994 - tp: 178.0000 - tn: 159921.0000 - fp: 25.0000 - fn: 79.0000 - precision: 0.8768 - recall: 0.6926 - auc: 0.9270 - val_loss: 7.7799 - val_accuracy: 0.4302 - val_tp: 93.0000 - val_tn: 22882.0000 - val_fp: 30415.0000 - val_fn: 12.0000 - val_precision: 0.0030 - val_recall: 0.8857 - val_auc: 0.6587\n",
      "Epoch 47/50\n",
      "161/161 [==============================] - 0s 2ms/step - loss: 0.0032 - accuracy: 0.9994 - tp: 182.0000 - tn: 159923.0000 - fp: 23.0000 - fn: 75.0000 - precision: 0.8878 - recall: 0.7082 - auc: 0.9327 - val_loss: 7.8467 - val_accuracy: 0.4532 - val_tp: 92.0000 - val_tn: 24110.0000 - val_fp: 29187.0000 - val_fn: 13.0000 - val_precision: 0.0031 - val_recall: 0.8762 - val_auc: 0.6649\n",
      "Epoch 48/50\n",
      "161/161 [==============================] - 0s 2ms/step - loss: 0.0032 - accuracy: 0.9994 - tp: 181.0000 - tn: 159924.0000 - fp: 22.0000 - fn: 76.0000 - precision: 0.8916 - recall: 0.7043 - auc: 0.9328 - val_loss: 8.4557 - val_accuracy: 0.4278 - val_tp: 93.0000 - val_tn: 22755.0000 - val_fp: 30542.0000 - val_fn: 12.0000 - val_precision: 0.0030 - val_recall: 0.8857 - val_auc: 0.6570\n",
      "Epoch 49/50\n",
      "161/161 [==============================] - 0s 2ms/step - loss: 0.0032 - accuracy: 0.9994 - tp: 180.0000 - tn: 159921.0000 - fp: 25.0000 - fn: 77.0000 - precision: 0.8780 - recall: 0.7004 - auc: 0.9328 - val_loss: 7.9659 - val_accuracy: 0.4270 - val_tp: 93.0000 - val_tn: 22707.0000 - val_fp: 30590.0000 - val_fn: 12.0000 - val_precision: 0.0030 - val_recall: 0.8857 - val_auc: 0.6554\n",
      "Epoch 50/50\n",
      "161/161 [==============================] - 0s 2ms/step - loss: 0.0032 - accuracy: 0.9994 - tp: 184.0000 - tn: 159922.0000 - fp: 24.0000 - fn: 73.0000 - precision: 0.8846 - recall: 0.7160 - auc: 0.9328 - val_loss: 8.7682 - val_accuracy: 0.4010 - val_tp: 93.0000 - val_tn: 21319.0000 - val_fp: 31978.0000 - val_fn: 12.0000 - val_precision: 0.0029 - val_recall: 0.8857 - val_auc: 0.6420\n"
     ]
    }
   ],
   "source": [
    "# Training the model\n",
    "batch_size = 1000\n",
    "epochs = 50\n",
    "training_history = model.fit(\n",
    "    X_train,\n",
    "    y_train,\n",
    "    validation_data=(X_val, y_val),\n",
    "    epochs=epochs,\n",
    "    batch_size=batch_size,\n",
    "    verbose=1,\n",
    ")"
   ]
  },
  {
   "cell_type": "markdown",
   "metadata": {},
   "source": [
    "### Model Performance"
   ]
  },
  {
   "cell_type": "markdown",
   "metadata": {},
   "source": [
    "#### Checking Training History"
   ]
  },
  {
   "cell_type": "code",
   "execution_count": 19,
   "metadata": {},
   "outputs": [
    {
     "data": {
      "text/plain": [
       "<AxesSubplot:title={'center':'Loss'}, xlabel='Epoch'>"
      ]
     },
     "execution_count": 19,
     "metadata": {},
     "output_type": "execute_result"
    },
    {
     "data": {
      "image/png": "[encoded data removed]",
      "text/plain": [
       "<Figure size 640x480 with 1 Axes>"
      ]
     },
     "metadata": {},
     "output_type": "display_data"
    }
   ],
   "source": [
    "# Plotting loss\n",
    "loss_df = pd.DataFrame(\n",
    "    {\n",
    "        \"Epoch\": range(1, epochs + 1),\n",
    "        \"Train\": training_history.history[\"loss\"],\n",
    "        \"Val\": training_history.history[\"val_loss\"],\n",
    "    }\n",
    ")\n",
    "loss_df.set_index(\"Epoch\", inplace=True)\n",
    "loss_df.plot(title=\"Loss\")"
   ]
  },
  {
   "cell_type": "code",
   "execution_count": 20,
   "metadata": {},
   "outputs": [
    {
     "data": {
      "text/plain": [
       "<AxesSubplot:title={'center':'Accuracy'}, xlabel='Epoch'>"
      ]
     },
     "execution_count": 20,
     "metadata": {},
     "output_type": "execute_result"
    },
    {
     "data": {
      "image/png": "[encoded data removed]",
      "text/plain": [
       "<Figure size 640x480 with 1 Axes>"
      ]
     },
     "metadata": {},
     "output_type": "display_data"
    }
   ],
   "source": [
    "# Plotting accuracy\n",
    "accuracy_df = pd.DataFrame(\n",
    "    {\n",
    "        \"Epoch\": range(1, epochs + 1),\n",
    "        \"Train\": training_history.history[\"accuracy\"],\n",
    "        \"Val\": training_history.history[\"val_accuracy\"],\n",
    "    }\n",
    ")\n",
    "accuracy_df.set_index(\"Epoch\", inplace=True)\n",
    "accuracy_df.plot(title=\"Accuracy\")"
   ]
  },
  {
   "cell_type": "code",
   "execution_count": 21,
   "metadata": {},
   "outputs": [
    {
     "data": {
      "text/plain": [
       "<AxesSubplot:title={'center':'AUC'}, xlabel='Epoch'>"
      ]
     },
     "execution_count": 21,
     "metadata": {},
     "output_type": "execute_result"
    },
    {
     "data": {
      "image/png": "[encoded data removed]",
      "text/plain": [
       "<Figure size 640x480 with 1 Axes>"
      ]
     },
     "metadata": {},
     "output_type": "display_data"
    }
   ],
   "source": [
    "# Plotting AUC\n",
    "auc_df = pd.DataFrame(\n",
    "    {\n",
    "        \"Epoch\": range(1, epochs + 1),\n",
    "        \"Train\": training_history.history[\"auc\"],\n",
    "        \"Val\": training_history.history[\"val_auc\"],\n",
    "    }\n",
    ")\n",
    "auc_df.set_index(\"Epoch\", inplace=True)\n",
    "auc_df.plot(title=\"AUC\")"
   ]
  },
  {
   "cell_type": "markdown",
   "metadata": {},
   "source": [
    "#### Plotting the ROC Curve"
   ]
  },
  {
   "cell_type": "code",
   "execution_count": 22,
   "metadata": {},
   "outputs": [],
   "source": [
    "# Import the roc_curve and auc metrics from sklearn\n",
    "from sklearn.metrics import roc_curve, auc"
   ]
  },
  {
   "cell_type": "code",
   "execution_count": 23,
   "metadata": {},
   "outputs": [
    {
     "name": "stdout",
     "output_type": "stream",
     "text": [
      "161/161 [==============================] - 0s 671us/step\n",
      "72/72 [==============================] - 0s 657us/step\n"
     ]
    }
   ],
   "source": [
    "# Making predictions to feed the roc_curve module\n",
    "train_predictions = model.predict(X_train, batch_size=1000)\n",
    "test_predictions = model.predict(X_test, batch_size=1000)"
   ]
  },
  {
   "cell_type": "code",
   "execution_count": 24,
   "metadata": {},
   "outputs": [],
   "source": [
    "# Calculate the ROC curve and AUC for the training set\n",
    "fpr_train, tpr_train, thresholds_train = roc_curve(y_train, train_predictions)\n",
    "auc_train = auc(fpr_train, tpr_train)\n",
    "auc_train = round(auc_train, 4)\n",
    "\n",
    "# Calculate the ROC curve and AUC for the testing set\n",
    "fpr_test, tpr_test, thresholds_test = roc_curve(y_test, test_predictions)\n",
    "auc_test = auc(fpr_test, tpr_test)\n",
    "auc_test = round(auc_test, 4)"
   ]
  },
  {
   "cell_type": "code",
   "execution_count": 25,
   "metadata": {},
   "outputs": [],
   "source": [
    "# Create a DataFrame with the fpr and tpr results\n",
    "roc_df_train = pd.DataFrame({\"FPR Train\": fpr_train, \"TPR Train\": tpr_train,})\n",
    "\n",
    "roc_df_test = pd.DataFrame({\"FPR Test\": fpr_test, \"TPR Test\": tpr_test,})"
   ]
  },
  {
   "cell_type": "code",
   "execution_count": 26,
   "metadata": {},
   "outputs": [
    {
     "data": {
      "text/plain": [
       "<AxesSubplot:title={'center':'Test ROC Curve (AUC=0.636)'}, xlabel='FPR Test'>"
      ]
     },
     "execution_count": 26,
     "metadata": {},
     "output_type": "execute_result"
    },
    {
     "data": {
      "image/png": "[encoded data removed]",
      "text/plain": [
       "<Figure size 640x480 with 1 Axes>"
      ]
     },
     "metadata": {},
     "output_type": "display_data"
    },
    {
     "data": {
      "image/png": "[encoded data removed]",
      "text/plain": [
       "<Figure size 640x480 with 1 Axes>"
      ]
     },
     "metadata": {},
     "output_type": "display_data"
    }
   ],
   "source": [
    "# Plotting the ROC Curves\n",
    "roc_df_train.plot(\n",
    "    x=\"FPR Train\",\n",
    "    y=\"TPR Train\",\n",
    "    xlim=([-0.05, 1.05]),\n",
    "    title=f\"Train ROC Curve (AUC={auc_train})\",\n",
    ")\n",
    "\n",
    "roc_df_test.plot(\n",
    "    x=\"FPR Test\",\n",
    "    y=\"TPR Test\",\n",
    "    color=\"red\",\n",
    "    style=\"--\",\n",
    "    xlim=([-0.05, 1.05]),\n",
    "    title=f\"Test ROC Curve (AUC={auc_test})\",\n",
    ")"
   ]
  },
  {
   "cell_type": "markdown",
   "metadata": {},
   "source": [
    "#### Evaluate the Model"
   ]
  },
  {
   "cell_type": "code",
   "execution_count": 27,
   "metadata": {},
   "outputs": [
    {
     "data": {
      "text/plain": [
       "{'loss': 8.427690505981445,\n",
       " 'accuracy': 0.4031347334384918,\n",
       " 'tp': 108.0,\n",
       " 'tn': 28596.0,\n",
       " 'fp': 42476.0,\n",
       " 'fn': 22.0,\n",
       " 'precision': 0.0025361638981848955,\n",
       " 'recall': 0.8307692408561707,\n",
       " 'auc': 0.6154006123542786}"
      ]
     },
     "metadata": {},
     "output_type": "display_data"
    }
   ],
   "source": [
    "# Evaluate the model\n",
    "scores = model.evaluate(X_test, y_test, verbose=0)\n",
    "\n",
    "# Define metrics dictionary\n",
    "metrics = {k: v for k, v in zip(model.metrics_names, scores)}\n",
    "\n",
    "# Display evaluation metrics results\n",
    "display(metrics)"
   ]
  },
  {
   "cell_type": "markdown",
   "metadata": {},
   "source": [
    "#### Confusion Matrix"
   ]
  },
  {
   "cell_type": "code",
   "execution_count": 28,
   "metadata": {},
   "outputs": [
    {
     "data": {
      "text/html": [
       "<div>\n",
       "<style scoped>\n",
       "    .dataframe tbody tr th:only-of-type {\n",
       "        vertical-align: middle;\n",
       "    }\n",
       "\n",
       "    .dataframe tbody tr th {\n",
       "        vertical-align: top;\n",
       "    }\n",
       "\n",
       "    .dataframe thead th {\n",
       "        text-align: right;\n",
       "    }\n",
       "</style>\n",
       "<table border=\"1\" class=\"dataframe\">\n",
       "  <thead>\n",
       "    <tr style=\"text-align: right;\">\n",
       "      <th>Predicted</th>\n",
       "      <th>Positive (1)</th>\n",
       "      <th>Negative (0)</th>\n",
       "    </tr>\n",
       "    <tr>\n",
       "      <th>Actual</th>\n",
       "      <th></th>\n",
       "      <th></th>\n",
       "    </tr>\n",
       "  </thead>\n",
       "  <tbody>\n",
       "    <tr>\n",
       "      <th>Positive(1)</th>\n",
       "      <td>TP=108.0</td>\n",
       "      <td>FN=42476.0</td>\n",
       "    </tr>\n",
       "    <tr>\n",
       "      <th>Negative(0)</th>\n",
       "      <td>FP=22.0</td>\n",
       "      <td>TN=28596.0</td>\n",
       "    </tr>\n",
       "  </tbody>\n",
       "</table>\n",
       "</div>"
      ],
      "text/plain": [
       "Predicted   Positive (1) Negative (0)\n",
       "Actual                               \n",
       "Positive(1)     TP=108.0   FN=42476.0\n",
       "Negative(0)      FP=22.0   TN=28596.0"
      ]
     },
     "execution_count": 28,
     "metadata": {},
     "output_type": "execute_result"
    }
   ],
   "source": [
    "# Define the confusion matrix data\n",
    "cm_df = pd.DataFrame(\n",
    "    {\n",
    "        \"Positive (1)\": [f\"TP={metrics['tp']}\", f\"FP={metrics['fn']}\"],\n",
    "        \"Negative (0)\": [f\"FN={metrics['fp']}\", f\"TN={metrics['tn']}\"],\n",
    "    },\n",
    "    index=[\"Positive(1)\", \"Negative(0)\"],\n",
    ")\n",
    "cm_df.index.name = \"Actual\"\n",
    "cm_df.columns.name = \"Predicted\"\n",
    "\n",
    "# Show the confusion matrix\n",
    "cm_df"
   ]
  },
  {
   "cell_type": "markdown",
   "metadata": {},
   "source": [
    "#### Classification Report"
   ]
  },
  {
   "cell_type": "code",
   "execution_count": 29,
   "metadata": {},
   "outputs": [
    {
     "name": "stdout",
     "output_type": "stream",
     "text": [
      "2226/2226 [==============================] - 1s 609us/step\n",
      "              precision    recall  f1-score   support\n",
      "\n",
      "           0       0.40      1.00      0.57     28618\n",
      "           1       0.83      0.00      0.01     42584\n",
      "\n",
      "    accuracy                           0.40     71202\n",
      "   macro avg       0.62      0.50      0.29     71202\n",
      "weighted avg       0.66      0.40      0.23     71202\n",
      "\n"
     ]
    }
   ],
   "source": [
    "# Import the classification_report method from sklearn\n",
    "from sklearn.metrics import classification_report\n",
    "\n",
    "# Predict classes using testing data\n",
    "y_predict_classes = (model.predict(X_test) > 0.5).astype(\"int32\")\n",
    "\n",
    "# Display classification report\n",
    "print(classification_report(y_predict_classes, y_test))"
   ]
  },
  {
   "cell_type": "code",
   "execution_count": null,
   "metadata": {},
   "outputs": [],
   "source": []
  }
 ],
 "metadata": {
  "file_extension": ".py",
  "kernelspec": {
   "display_name": "Python 3 (ipykernel)",
   "language": "python",
   "name": "python3"
  },
  "language_info": {
   "codemirror_mode": {
    "name": "ipython",
    "version": 3
   },
   "file_extension": ".py",
   "mimetype": "text/x-python",
   "name": "python",
   "nbconvert_exporter": "python",
   "pygments_lexer": "ipython3",
   "version": "3.7.13"
  },
  "mimetype": "text/x-python",
  "name": "python",
  "npconvert_exporter": "python",
  "pygments_lexer": "ipython3",
  "version": 3
 },
 "nbformat": 4,
 "nbformat_minor": 4
}
