{
 "cells": [
  {
   "cell_type": "markdown",
   "id": "9f919000",
   "metadata": {},
   "source": [
    "# Intro to Transfer Learning"
   ]
  },
  {
   "cell_type": "markdown",
   "id": "d30d59ab",
   "metadata": {},
   "source": [
    "## Import Packages"
   ]
  },
  {
   "cell_type": "code",
   "execution_count": 1,
   "id": "4982003e",
   "metadata": {},
   "outputs": [],
   "source": [
    "import pandas as pd\n",
    "import numpy as np"
   ]
  },
  {
   "cell_type": "code",
   "execution_count": 2,
   "id": "7c37ca7e",
   "metadata": {},
   "outputs": [],
   "source": [
    "from keras.models import Sequential, Model\n",
    "from keras.layers import Dense, Activation, Dropout\n",
    "from sklearn.preprocessing import StandardScaler\n"
   ]
  },
  {
   "cell_type": "markdown",
   "id": "a192846a",
   "metadata": {},
   "source": [
    "## Prepare the Data"
   ]
  },
  {
   "cell_type": "code",
   "execution_count": 3,
   "id": "c9374ffb",
   "metadata": {},
   "outputs": [
    {
     "data": {
      "text/html": [
       "<div>\n",
       "<style scoped>\n",
       "    .dataframe tbody tr th:only-of-type {\n",
       "        vertical-align: middle;\n",
       "    }\n",
       "\n",
       "    .dataframe tbody tr th {\n",
       "        vertical-align: top;\n",
       "    }\n",
       "\n",
       "    .dataframe thead th {\n",
       "        text-align: right;\n",
       "    }\n",
       "</style>\n",
       "<table border=\"1\" class=\"dataframe\">\n",
       "  <thead>\n",
       "    <tr style=\"text-align: right;\">\n",
       "      <th></th>\n",
       "      <th>EPS</th>\n",
       "      <th>forecasted_eps</th>\n",
       "      <th>noOfEsts</th>\n",
       "      <th>after_total_returns</th>\n",
       "      <th>before_total_returns</th>\n",
       "    </tr>\n",
       "  </thead>\n",
       "  <tbody>\n",
       "    <tr>\n",
       "      <th>0</th>\n",
       "      <td>2.01</td>\n",
       "      <td>1.67</td>\n",
       "      <td>11</td>\n",
       "      <td>0.051444</td>\n",
       "      <td>0.018585</td>\n",
       "    </tr>\n",
       "    <tr>\n",
       "      <th>1</th>\n",
       "      <td>0.17</td>\n",
       "      <td>0.19</td>\n",
       "      <td>6</td>\n",
       "      <td>0.112955</td>\n",
       "      <td>-0.000510</td>\n",
       "    </tr>\n",
       "    <tr>\n",
       "      <th>2</th>\n",
       "      <td>-0.07</td>\n",
       "      <td>0.14</td>\n",
       "      <td>4</td>\n",
       "      <td>0.077167</td>\n",
       "      <td>-0.046104</td>\n",
       "    </tr>\n",
       "    <tr>\n",
       "      <th>3</th>\n",
       "      <td>0.48</td>\n",
       "      <td>0.51</td>\n",
       "      <td>8</td>\n",
       "      <td>-0.006130</td>\n",
       "      <td>-0.004899</td>\n",
       "    </tr>\n",
       "    <tr>\n",
       "      <th>4</th>\n",
       "      <td>-0.24</td>\n",
       "      <td>-0.27</td>\n",
       "      <td>9</td>\n",
       "      <td>0.089762</td>\n",
       "      <td>-0.025466</td>\n",
       "    </tr>\n",
       "    <tr>\n",
       "      <th>...</th>\n",
       "      <td>...</td>\n",
       "      <td>...</td>\n",
       "      <td>...</td>\n",
       "      <td>...</td>\n",
       "      <td>...</td>\n",
       "    </tr>\n",
       "    <tr>\n",
       "      <th>16834</th>\n",
       "      <td>2.16</td>\n",
       "      <td>0.22</td>\n",
       "      <td>1</td>\n",
       "      <td>-0.011062</td>\n",
       "      <td>-0.041509</td>\n",
       "    </tr>\n",
       "    <tr>\n",
       "      <th>16835</th>\n",
       "      <td>-0.16</td>\n",
       "      <td>-0.20</td>\n",
       "      <td>3</td>\n",
       "      <td>0.322034</td>\n",
       "      <td>-0.040698</td>\n",
       "    </tr>\n",
       "    <tr>\n",
       "      <th>16836</th>\n",
       "      <td>-0.16</td>\n",
       "      <td>-0.15</td>\n",
       "      <td>7</td>\n",
       "      <td>0.101928</td>\n",
       "      <td>0.073204</td>\n",
       "    </tr>\n",
       "    <tr>\n",
       "      <th>16837</th>\n",
       "      <td>-2.58</td>\n",
       "      <td>-3.45</td>\n",
       "      <td>1</td>\n",
       "      <td>0.099432</td>\n",
       "      <td>0.091058</td>\n",
       "    </tr>\n",
       "    <tr>\n",
       "      <th>16838</th>\n",
       "      <td>-0.42</td>\n",
       "      <td>-0.40</td>\n",
       "      <td>3</td>\n",
       "      <td>-0.095618</td>\n",
       "      <td>-0.106033</td>\n",
       "    </tr>\n",
       "  </tbody>\n",
       "</table>\n",
       "<p>16839 rows × 5 columns</p>\n",
       "</div>"
      ],
      "text/plain": [
       "        EPS  forecasted_eps  noOfEsts  after_total_returns  \\\n",
       "0      2.01            1.67        11             0.051444   \n",
       "1      0.17            0.19         6             0.112955   \n",
       "2     -0.07            0.14         4             0.077167   \n",
       "3      0.48            0.51         8            -0.006130   \n",
       "4     -0.24           -0.27         9             0.089762   \n",
       "...     ...             ...       ...                  ...   \n",
       "16834  2.16            0.22         1            -0.011062   \n",
       "16835 -0.16           -0.20         3             0.322034   \n",
       "16836 -0.16           -0.15         7             0.101928   \n",
       "16837 -2.58           -3.45         1             0.099432   \n",
       "16838 -0.42           -0.40         3            -0.095618   \n",
       "\n",
       "       before_total_returns  \n",
       "0                  0.018585  \n",
       "1                 -0.000510  \n",
       "2                 -0.046104  \n",
       "3                 -0.004899  \n",
       "4                 -0.025466  \n",
       "...                     ...  \n",
       "16834             -0.041509  \n",
       "16835             -0.040698  \n",
       "16836              0.073204  \n",
       "16837              0.091058  \n",
       "16838             -0.106033  \n",
       "\n",
       "[16839 rows x 5 columns]"
      ]
     },
     "execution_count": 3,
     "metadata": {},
     "output_type": "execute_result"
    }
   ],
   "source": [
    "df = pd.read_csv('meet_or_beat_US.csv')\n",
    "df"
   ]
  },
  {
   "cell_type": "code",
   "execution_count": 4,
   "id": "54d9c7dd",
   "metadata": {},
   "outputs": [],
   "source": [
    "X = df[['EPS','forecasted_eps','noOfEsts','before_total_returns']]\n",
    "y = df[['after_total_returns']]"
   ]
  },
  {
   "cell_type": "code",
   "execution_count": 5,
   "id": "862ba072",
   "metadata": {},
   "outputs": [],
   "source": [
    "# Split into training and testing windows\n",
    "from sklearn.model_selection import train_test_split\n",
    "X_train, X_test, y_train, y_test = train_test_split(X, y, random_state=1)"
   ]
  },
  {
   "cell_type": "code",
   "execution_count": 6,
   "id": "39fac150",
   "metadata": {},
   "outputs": [],
   "source": [
    "# Create the StandardScaler instance\n",
    "X_scaler = StandardScaler()\n",
    "\n",
    "# Fit the scaler to the features training dataset\n",
    "X_scaler.fit(X_train)\n",
    "\n",
    "# Scale both the training and testing data from the features dataset\n",
    "X_train_scaled = X_scaler.transform(X_train)\n",
    "X_test_scaled = X_scaler.transform(X_test)"
   ]
  },
  {
   "cell_type": "markdown",
   "id": "a326fcf5",
   "metadata": {},
   "source": [
    "## Build a Model"
   ]
  },
  {
   "cell_type": "code",
   "execution_count": 7,
   "id": "fcf72327",
   "metadata": {},
   "outputs": [],
   "source": [
    "# Define the the number of inputs to the model\n",
    "number_inputs = 4\n",
    "\n",
    "# Define the number of hidden nodes for the first hidden layer\n",
    "hidden_nodes_layer1 = 64\n",
    "\n",
    "# Define the number of hidden nodes for the second hidden layer\n",
    "hidden_nodes_layer2 = 32\n",
    "\n",
    "# Create the Sequential model instance\n",
    "nn = Sequential()\n",
    "\n",
    "# Add the first Dense layer specifying the number of inputs, the number of hidden nodes, and the activation function\n",
    "nn.add(Dense(units=hidden_nodes_layer1, input_dim=number_inputs, activation=\"relu\"))\n",
    "\n",
    "# Add the second Dense layer specifying the number of hidden nodes and the activation function\n",
    "nn.add(Dense(units=hidden_nodes_layer2, activation=\"relu\"))\n",
    "\n",
    "nn.add(Dropout(.2,input_shape=(hidden_nodes_layer2,)))\n",
    "\n",
    "# Add the second Dense layer specifying the number of hidden nodes and the activation function\n",
    "nn.add(Dense(units=24, activation=\"relu\"))\n",
    "\n",
    "nn.add(Dropout(.2,input_shape=(24,)))\n",
    "\n",
    "# Add the second Dense layer specifying the number of hidden nodes and the activation function\n",
    "nn.add(Dense(units=12, activation=\"relu\"))\n",
    "\n",
    "# Add the output layer to the model specifying the number of output neurons and activation function\n",
    "nn.add(Dense(1))"
   ]
  },
  {
   "cell_type": "code",
   "execution_count": 8,
   "id": "884bf380",
   "metadata": {},
   "outputs": [
    {
     "name": "stdout",
     "output_type": "stream",
     "text": [
      "Model: \"sequential\"\n",
      "_________________________________________________________________\n",
      " Layer (type)                Output Shape              Param #   \n",
      "=================================================================\n",
      " dense (Dense)               (None, 64)                320       \n",
      "                                                                 \n",
      " dense_1 (Dense)             (None, 32)                2080      \n",
      "                                                                 \n",
      " dropout (Dropout)           (None, 32)                0         \n",
      "                                                                 \n",
      " dense_2 (Dense)             (None, 24)                792       \n",
      "                                                                 \n",
      " dropout_1 (Dropout)         (None, 24)                0         \n",
      "                                                                 \n",
      " dense_3 (Dense)             (None, 12)                300       \n",
      "                                                                 \n",
      " dense_4 (Dense)             (None, 1)                 13        \n",
      "                                                                 \n",
      "=================================================================\n",
      "Total params: 3,505\n",
      "Trainable params: 3,505\n",
      "Non-trainable params: 0\n",
      "_________________________________________________________________\n"
     ]
    }
   ],
   "source": [
    "# Summarise the structure of the model\n",
    "nn.summary()"
   ]
  },
  {
   "cell_type": "code",
   "execution_count": 9,
   "id": "ed21a8e5",
   "metadata": {},
   "outputs": [],
   "source": [
    "# Compile the Sequential model\n",
    "nn.compile(loss=\"mean_squared_error\", optimizer=\"adam\", metrics=[\"accuracy\"])"
   ]
  },
  {
   "cell_type": "code",
   "execution_count": 10,
   "id": "a70252f7",
   "metadata": {},
   "outputs": [
    {
     "name": "stdout",
     "output_type": "stream",
     "text": [
      "Epoch 1/20\n",
      "127/127 [==============================] - 1s 1ms/step - loss: 0.0197 - accuracy: 0.0079\n",
      "Epoch 2/20\n",
      "127/127 [==============================] - 0s 1ms/step - loss: 0.0153 - accuracy: 0.0079\n",
      "Epoch 3/20\n",
      "127/127 [==============================] - 0s 1ms/step - loss: 0.0146 - accuracy: 0.0079\n",
      "Epoch 4/20\n",
      "127/127 [==============================] - 0s 1ms/step - loss: 0.0136 - accuracy: 0.0079\n",
      "Epoch 5/20\n",
      "127/127 [==============================] - 0s 1ms/step - loss: 0.0146 - accuracy: 0.0079\n",
      "Epoch 6/20\n",
      "127/127 [==============================] - 0s 1ms/step - loss: 0.0183 - accuracy: 0.0079\n",
      "Epoch 7/20\n",
      "127/127 [==============================] - 0s 1ms/step - loss: 0.0137 - accuracy: 0.0079\n",
      "Epoch 8/20\n",
      "127/127 [==============================] - 0s 1ms/step - loss: 0.0137 - accuracy: 0.0079\n",
      "Epoch 9/20\n",
      "127/127 [==============================] - 0s 1ms/step - loss: 0.0142 - accuracy: 0.0079\n",
      "Epoch 10/20\n",
      "127/127 [==============================] - 0s 1ms/step - loss: 0.0142 - accuracy: 0.0079\n",
      "Epoch 11/20\n",
      "127/127 [==============================] - 0s 1ms/step - loss: 0.0138 - accuracy: 0.0079\n",
      "Epoch 12/20\n",
      "127/127 [==============================] - 0s 1ms/step - loss: 0.0156 - accuracy: 0.0079\n",
      "Epoch 13/20\n",
      "127/127 [==============================] - 0s 1ms/step - loss: 0.0139 - accuracy: 0.0079\n",
      "Epoch 14/20\n",
      "127/127 [==============================] - 0s 1ms/step - loss: 0.0138 - accuracy: 0.0079\n",
      "Epoch 15/20\n",
      "127/127 [==============================] - 0s 1ms/step - loss: 0.0141 - accuracy: 0.0079\n",
      "Epoch 16/20\n",
      "127/127 [==============================] - 0s 1ms/step - loss: 0.0153 - accuracy: 0.0079\n",
      "Epoch 17/20\n",
      "127/127 [==============================] - 0s 1ms/step - loss: 0.0148 - accuracy: 0.0079\n",
      "Epoch 18/20\n",
      "127/127 [==============================] - 0s 1ms/step - loss: 0.0137 - accuracy: 0.0079\n",
      "Epoch 19/20\n",
      "127/127 [==============================] - 0s 1ms/step - loss: 0.0137 - accuracy: 0.0079\n",
      "Epoch 20/20\n",
      "127/127 [==============================] - 0s 1ms/step - loss: 0.0135 - accuracy: 0.0079\n"
     ]
    },
    {
     "data": {
      "text/plain": [
       "<keras.callbacks.History at 0x298c53ab3c8>"
      ]
     },
     "execution_count": 10,
     "metadata": {},
     "output_type": "execute_result"
    }
   ],
   "source": [
    "# Fit the model\n",
    "nn.fit(X_train_scaled,y_train, \n",
    "                    epochs=20,\n",
    "                    batch_size=100,\n",
    "                    shuffle=True)"
   ]
  },
  {
   "cell_type": "code",
   "execution_count": 11,
   "id": "1cbff072",
   "metadata": {},
   "outputs": [
    {
     "name": "stdout",
     "output_type": "stream",
     "text": [
      "132/132 - 0s - loss: 0.0094 - accuracy: 0.0057 - 185ms/epoch - 1ms/step\n",
      "Loss: 0.009378975257277489, Accuracy: 0.0057007125578820705\n"
     ]
    }
   ],
   "source": [
    "# Evaluate the model loss and accuracy metrics using the evaluate method and the test data\n",
    "model_loss, model_accuracy = nn.evaluate(X_test_scaled, y_test, verbose=2)\n",
    "\n",
    "# Display the evaluation results\n",
    "print(f\"Loss: {model_loss}, Accuracy: {model_accuracy}\")"
   ]
  },
  {
   "cell_type": "markdown",
   "id": "82f19268",
   "metadata": {},
   "source": [
    "## Save the Model and its Weights"
   ]
  },
  {
   "cell_type": "code",
   "execution_count": 12,
   "id": "b1864612",
   "metadata": {},
   "outputs": [],
   "source": [
    "# Save model as JSON\n",
    "nn_json = nn.to_json()\n",
    "\n",
    "file_path = (\"model.json\")\n",
    "with open(file_path, \"w\") as json_file:\n",
    "    json_file.write(nn_json)"
   ]
  },
  {
   "cell_type": "code",
   "execution_count": 13,
   "id": "c00d4bfb",
   "metadata": {},
   "outputs": [],
   "source": [
    "# Save weights\n",
    "file_path = \"model.h5\"\n",
    "nn.save_weights(file_path)"
   ]
  },
  {
   "cell_type": "markdown",
   "id": "b8f94120",
   "metadata": {},
   "source": [
    "## Read in the Model with Weights"
   ]
  },
  {
   "cell_type": "code",
   "execution_count": 14,
   "id": "318520c8",
   "metadata": {},
   "outputs": [],
   "source": [
    "#Imports\n",
    "from tensorflow.keras.models import model_from_json\n",
    "\n",
    "# load json and create model\n",
    "file_path = (\"model.json\")\n",
    "with open(\"model.json\", \"r\") as json_file:\n",
    "    model_json = json_file.read()\n",
    "loaded_model = model_from_json(model_json)\n",
    "\n",
    "# load weights into new model\n",
    "file_path = \"model.h5\"\n",
    "loaded_model.load_weights(file_path)"
   ]
  },
  {
   "cell_type": "code",
   "execution_count": 15,
   "id": "32de8be6",
   "metadata": {
    "scrolled": true
   },
   "outputs": [
    {
     "data": {
      "text/plain": [
       "[<keras.layers.core.dense.Dense at 0x298c8b8aa88>,\n",
       " <keras.layers.core.dense.Dense at 0x298c8b92ac8>,\n",
       " <keras.layers.regularization.dropout.Dropout at 0x298c8b8fc48>,\n",
       " <keras.layers.core.dense.Dense at 0x298c8b9c708>,\n",
       " <keras.layers.regularization.dropout.Dropout at 0x298c8b9dc48>,\n",
       " <keras.layers.core.dense.Dense at 0x298c6722588>,\n",
       " <keras.layers.core.dense.Dense at 0x298c6720088>]"
      ]
     },
     "execution_count": 15,
     "metadata": {},
     "output_type": "execute_result"
    }
   ],
   "source": [
    "# The `layers` attribute stores the various layers in the model as a list\n",
    "loaded_model.layers"
   ]
  },
  {
   "cell_type": "markdown",
   "id": "66a5255f",
   "metadata": {},
   "source": [
    "## Read in New Data and Work with Previously Saved Model"
   ]
  },
  {
   "cell_type": "code",
   "execution_count": 16,
   "id": "73d646d5",
   "metadata": {},
   "outputs": [
    {
     "data": {
      "text/html": [
       "<div>\n",
       "<style scoped>\n",
       "    .dataframe tbody tr th:only-of-type {\n",
       "        vertical-align: middle;\n",
       "    }\n",
       "\n",
       "    .dataframe tbody tr th {\n",
       "        vertical-align: top;\n",
       "    }\n",
       "\n",
       "    .dataframe thead th {\n",
       "        text-align: right;\n",
       "    }\n",
       "</style>\n",
       "<table border=\"1\" class=\"dataframe\">\n",
       "  <thead>\n",
       "    <tr style=\"text-align: right;\">\n",
       "      <th></th>\n",
       "      <th>EPS</th>\n",
       "      <th>forecasted_eps</th>\n",
       "      <th>noOfEsts</th>\n",
       "      <th>before_total_returns</th>\n",
       "    </tr>\n",
       "  </thead>\n",
       "  <tbody>\n",
       "    <tr>\n",
       "      <th>0</th>\n",
       "      <td>3.83</td>\n",
       "      <td>3.72</td>\n",
       "      <td>11</td>\n",
       "      <td>-0.088042</td>\n",
       "    </tr>\n",
       "    <tr>\n",
       "      <th>1</th>\n",
       "      <td>-2.14</td>\n",
       "      <td>-2.12</td>\n",
       "      <td>1</td>\n",
       "      <td>-0.108000</td>\n",
       "    </tr>\n",
       "    <tr>\n",
       "      <th>2</th>\n",
       "      <td>0.58</td>\n",
       "      <td>0.41</td>\n",
       "      <td>10</td>\n",
       "      <td>-0.218316</td>\n",
       "    </tr>\n",
       "    <tr>\n",
       "      <th>3</th>\n",
       "      <td>0.11</td>\n",
       "      <td>0.05</td>\n",
       "      <td>2</td>\n",
       "      <td>0.044483</td>\n",
       "    </tr>\n",
       "    <tr>\n",
       "      <th>4</th>\n",
       "      <td>-0.01</td>\n",
       "      <td>0.01</td>\n",
       "      <td>1</td>\n",
       "      <td>-0.238274</td>\n",
       "    </tr>\n",
       "  </tbody>\n",
       "</table>\n",
       "</div>"
      ],
      "text/plain": [
       "    EPS  forecasted_eps  noOfEsts  before_total_returns\n",
       "0  3.83            3.72        11             -0.088042\n",
       "1 -2.14           -2.12         1             -0.108000\n",
       "2  0.58            0.41        10             -0.218316\n",
       "3  0.11            0.05         2              0.044483\n",
       "4 -0.01            0.01         1             -0.238274"
      ]
     },
     "execution_count": 16,
     "metadata": {},
     "output_type": "execute_result"
    }
   ],
   "source": [
    "# Load in some new data\n",
    "X = pd.read_csv('meet_or_beat_US_new_data.csv')\n",
    "X.head()"
   ]
  },
  {
   "cell_type": "code",
   "execution_count": 17,
   "id": "cbecd7dd",
   "metadata": {},
   "outputs": [
    {
     "name": "stdout",
     "output_type": "stream",
     "text": [
      "46/46 [==============================] - 0s 649us/step\n"
     ]
    },
    {
     "data": {
      "text/plain": [
       "array([[-0.09547249],\n",
       "       [ 0.26356202],\n",
       "       [-0.00721774],\n",
       "       ...,\n",
       "       [ 0.00670068],\n",
       "       [ 0.15862755],\n",
       "       [ 0.00670068]], dtype=float32)"
      ]
     },
     "execution_count": 17,
     "metadata": {},
     "output_type": "execute_result"
    }
   ],
   "source": [
    "new_predictions = loaded_model.predict(X)\n",
    "new_predictions"
   ]
  },
  {
   "cell_type": "code",
   "execution_count": 18,
   "id": "4d488311",
   "metadata": {},
   "outputs": [
    {
     "data": {
      "text/html": [
       "<div>\n",
       "<style scoped>\n",
       "    .dataframe tbody tr th:only-of-type {\n",
       "        vertical-align: middle;\n",
       "    }\n",
       "\n",
       "    .dataframe tbody tr th {\n",
       "        vertical-align: top;\n",
       "    }\n",
       "\n",
       "    .dataframe thead th {\n",
       "        text-align: right;\n",
       "    }\n",
       "</style>\n",
       "<table border=\"1\" class=\"dataframe\">\n",
       "  <thead>\n",
       "    <tr style=\"text-align: right;\">\n",
       "      <th></th>\n",
       "      <th>EPS</th>\n",
       "      <th>forecasted_eps</th>\n",
       "      <th>noOfEsts</th>\n",
       "      <th>after_total_returns</th>\n",
       "      <th>before_total_returns</th>\n",
       "    </tr>\n",
       "  </thead>\n",
       "  <tbody>\n",
       "    <tr>\n",
       "      <th>0</th>\n",
       "      <td>0.02</td>\n",
       "      <td>0.11</td>\n",
       "      <td>1</td>\n",
       "      <td>-0.065574</td>\n",
       "      <td>0.026369</td>\n",
       "    </tr>\n",
       "    <tr>\n",
       "      <th>1</th>\n",
       "      <td>0.07</td>\n",
       "      <td>0.01</td>\n",
       "      <td>1</td>\n",
       "      <td>-0.079787</td>\n",
       "      <td>0.233333</td>\n",
       "    </tr>\n",
       "    <tr>\n",
       "      <th>2</th>\n",
       "      <td>0.25</td>\n",
       "      <td>0.19</td>\n",
       "      <td>2</td>\n",
       "      <td>0.057402</td>\n",
       "      <td>0.001473</td>\n",
       "    </tr>\n",
       "    <tr>\n",
       "      <th>3</th>\n",
       "      <td>0.08</td>\n",
       "      <td>0.03</td>\n",
       "      <td>1</td>\n",
       "      <td>0.008572</td>\n",
       "      <td>0.217857</td>\n",
       "    </tr>\n",
       "    <tr>\n",
       "      <th>4</th>\n",
       "      <td>-0.18</td>\n",
       "      <td>-0.14</td>\n",
       "      <td>1</td>\n",
       "      <td>0.080547</td>\n",
       "      <td>-0.002414</td>\n",
       "    </tr>\n",
       "  </tbody>\n",
       "</table>\n",
       "</div>"
      ],
      "text/plain": [
       "    EPS  forecasted_eps  noOfEsts  after_total_returns  before_total_returns\n",
       "0  0.02            0.11         1            -0.065574              0.026369\n",
       "1  0.07            0.01         1            -0.079787              0.233333\n",
       "2  0.25            0.19         2             0.057402              0.001473\n",
       "3  0.08            0.03         1             0.008572              0.217857\n",
       "4 -0.18           -0.14         1             0.080547             -0.002414"
      ]
     },
     "execution_count": 18,
     "metadata": {},
     "output_type": "execute_result"
    }
   ],
   "source": [
    "new_data = pd.read_csv('meet_or_beat_AU.csv')\n",
    "new_data.head()"
   ]
  },
  {
   "cell_type": "code",
   "execution_count": 19,
   "id": "c4de4246",
   "metadata": {},
   "outputs": [],
   "source": [
    "# Split into training and testing windows\n",
    "from sklearn.model_selection import train_test_split\n",
    "\n",
    "y_var = 'after_total_returns'\n",
    "x_vars = list(new_data.columns)\n",
    "x_vars.remove(y_var)\n",
    "\n",
    "X_train, X_test, y_train, y_test = train_test_split(new_data[x_vars], new_data[y_var], random_state=1)\n",
    "\n",
    "# Create the StandardScaler instance\n",
    "X_scaler = StandardScaler()\n",
    "\n",
    "# Fit the scaler to the features training dataset\n",
    "X_scaler.fit(X_train)\n",
    "\n",
    "# Scale both the training and testing data from the features dataset\n",
    "X_train_scaled = X_scaler.transform(X_train)\n",
    "X_test_scaled = X_scaler.transform(X_test)"
   ]
  },
  {
   "cell_type": "markdown",
   "id": "cb8c81fe",
   "metadata": {},
   "source": [
    "## Freeze Layers"
   ]
  },
  {
   "cell_type": "code",
   "execution_count": 20,
   "id": "d4605972",
   "metadata": {},
   "outputs": [],
   "source": [
    "# Freeze the existing layers of the loaded model\n",
    "for layer in loaded_model.layers[0:-1]:\n",
    "    layer.trainable = False"
   ]
  },
  {
   "cell_type": "code",
   "execution_count": 21,
   "id": "88ea5379",
   "metadata": {},
   "outputs": [
    {
     "name": "stdout",
     "output_type": "stream",
     "text": [
      "Model: \"sequential\"\n",
      "_________________________________________________________________\n",
      " Layer (type)                Output Shape              Param #   \n",
      "=================================================================\n",
      " dense (Dense)               (None, 64)                320       \n",
      "                                                                 \n",
      " dense_1 (Dense)             (None, 32)                2080      \n",
      "                                                                 \n",
      " dropout (Dropout)           (None, 32)                0         \n",
      "                                                                 \n",
      " dense_2 (Dense)             (None, 24)                792       \n",
      "                                                                 \n",
      " dropout_1 (Dropout)         (None, 24)                0         \n",
      "                                                                 \n",
      " dense_3 (Dense)             (None, 12)                300       \n",
      "                                                                 \n",
      " dense_4 (Dense)             (None, 1)                 13        \n",
      "                                                                 \n",
      "=================================================================\n",
      "Total params: 3,505\n",
      "Trainable params: 13\n",
      "Non-trainable params: 3,492\n",
      "_________________________________________________________________\n"
     ]
    }
   ],
   "source": [
    "loaded_model.summary()"
   ]
  },
  {
   "cell_type": "markdown",
   "id": "2f852e9c",
   "metadata": {},
   "source": [
    "## Add New Layers to Existing Model"
   ]
  },
  {
   "cell_type": "code",
   "execution_count": 22,
   "id": "9427c6fb",
   "metadata": {},
   "outputs": [],
   "source": [
    "# Create a new DNN to hold the old one\n",
    "transfer_model = Sequential()\n",
    "# Go through each layer, skipping the last layer\n",
    "for layer in loaded_model.layers[:-1]: \n",
    "    transfer_model.add(layer)"
   ]
  },
  {
   "cell_type": "code",
   "execution_count": 23,
   "id": "26740d84",
   "metadata": {},
   "outputs": [
    {
     "name": "stdout",
     "output_type": "stream",
     "text": [
      "Model: \"sequential_1\"\n",
      "_________________________________________________________________\n",
      " Layer (type)                Output Shape              Param #   \n",
      "=================================================================\n",
      " dense (Dense)               (None, 64)                320       \n",
      "                                                                 \n",
      " dense_1 (Dense)             (None, 32)                2080      \n",
      "                                                                 \n",
      " dropout (Dropout)           (None, 32)                0         \n",
      "                                                                 \n",
      " dense_2 (Dense)             (None, 24)                792       \n",
      "                                                                 \n",
      " dropout_1 (Dropout)         (None, 24)                0         \n",
      "                                                                 \n",
      " dense_3 (Dense)             (None, 12)                300       \n",
      "                                                                 \n",
      "=================================================================\n",
      "Total params: 3,492\n",
      "Trainable params: 0\n",
      "Non-trainable params: 3,492\n",
      "_________________________________________________________________\n"
     ]
    }
   ],
   "source": [
    "transfer_model.summary()"
   ]
  },
  {
   "cell_type": "code",
   "execution_count": 24,
   "id": "bdcdd2a7",
   "metadata": {},
   "outputs": [],
   "source": [
    "# Add an additional layer\n",
    "transfer_model.add(Dense(10, activation=\"relu\"))\n",
    "# Add the final output layer\n",
    "transfer_model.add(Dense(1))"
   ]
  },
  {
   "cell_type": "code",
   "execution_count": 25,
   "id": "69d94064",
   "metadata": {
    "scrolled": true
   },
   "outputs": [
    {
     "name": "stdout",
     "output_type": "stream",
     "text": [
      "Model: \"sequential_1\"\n",
      "_________________________________________________________________\n",
      " Layer (type)                Output Shape              Param #   \n",
      "=================================================================\n",
      " dense (Dense)               (None, 64)                320       \n",
      "                                                                 \n",
      " dense_1 (Dense)             (None, 32)                2080      \n",
      "                                                                 \n",
      " dropout (Dropout)           (None, 32)                0         \n",
      "                                                                 \n",
      " dense_2 (Dense)             (None, 24)                792       \n",
      "                                                                 \n",
      " dropout_1 (Dropout)         (None, 24)                0         \n",
      "                                                                 \n",
      " dense_3 (Dense)             (None, 12)                300       \n",
      "                                                                 \n",
      " dense_5 (Dense)             (None, 10)                130       \n",
      "                                                                 \n",
      " dense_6 (Dense)             (None, 1)                 11        \n",
      "                                                                 \n",
      "=================================================================\n",
      "Total params: 3,633\n",
      "Trainable params: 141\n",
      "Non-trainable params: 3,492\n",
      "_________________________________________________________________\n"
     ]
    }
   ],
   "source": [
    "transfer_model.summary()"
   ]
  },
  {
   "cell_type": "markdown",
   "id": "821e7c1a",
   "metadata": {},
   "source": [
    "## Fit the Revised Model"
   ]
  },
  {
   "cell_type": "code",
   "execution_count": 26,
   "id": "d9238964",
   "metadata": {},
   "outputs": [],
   "source": [
    "# Compile the Sequential model\n",
    "transfer_model.compile(loss=\"mean_absolute_error\", optimizer=\"adam\", metrics=[\"accuracy\"])"
   ]
  },
  {
   "cell_type": "code",
   "execution_count": 27,
   "id": "3b17bcd6",
   "metadata": {},
   "outputs": [
    {
     "name": "stdout",
     "output_type": "stream",
     "text": [
      "Epoch 1/20\n",
      "41/41 [==============================] - 0s 1ms/step - loss: 0.0662 - accuracy: 0.0049\n",
      "Epoch 2/20\n",
      "41/41 [==============================] - 0s 1ms/step - loss: 0.0651 - accuracy: 0.0049\n",
      "Epoch 3/20\n",
      "41/41 [==============================] - 0s 1ms/step - loss: 0.0645 - accuracy: 0.0049\n",
      "Epoch 4/20\n",
      "41/41 [==============================] - 0s 997us/step - loss: 0.0631 - accuracy: 0.0049\n",
      "Epoch 5/20\n",
      "41/41 [==============================] - 0s 1ms/step - loss: 0.0644 - accuracy: 0.0049\n",
      "Epoch 6/20\n",
      "41/41 [==============================] - 0s 1ms/step - loss: 0.0637 - accuracy: 0.0049\n",
      "Epoch 7/20\n",
      "41/41 [==============================] - 0s 1ms/step - loss: 0.0634 - accuracy: 0.0049\n",
      "Epoch 8/20\n",
      "41/41 [==============================] - 0s 1ms/step - loss: 0.0632 - accuracy: 0.0049\n",
      "Epoch 9/20\n",
      "41/41 [==============================] - 0s 1ms/step - loss: 0.0627 - accuracy: 0.0049\n",
      "Epoch 10/20\n",
      "41/41 [==============================] - 0s 1ms/step - loss: 0.0633 - accuracy: 0.0049\n",
      "Epoch 11/20\n",
      "41/41 [==============================] - 0s 1ms/step - loss: 0.0628 - accuracy: 0.0049\n",
      "Epoch 12/20\n",
      "41/41 [==============================] - 0s 1ms/step - loss: 0.0627 - accuracy: 0.0049\n",
      "Epoch 13/20\n",
      "41/41 [==============================] - 0s 1ms/step - loss: 0.0625 - accuracy: 0.0049\n",
      "Epoch 14/20\n",
      "41/41 [==============================] - 0s 1ms/step - loss: 0.0630 - accuracy: 0.0049\n",
      "Epoch 15/20\n",
      "41/41 [==============================] - 0s 1ms/step - loss: 0.0629 - accuracy: 0.0049\n",
      "Epoch 16/20\n",
      "41/41 [==============================] - 0s 987us/step - loss: 0.0625 - accuracy: 0.0049\n",
      "Epoch 17/20\n",
      "41/41 [==============================] - 0s 1ms/step - loss: 0.0622 - accuracy: 0.0049\n",
      "Epoch 18/20\n",
      "41/41 [==============================] - 0s 1ms/step - loss: 0.0625 - accuracy: 0.0049\n",
      "Epoch 19/20\n",
      "41/41 [==============================] - 0s 1ms/step - loss: 0.0625 - accuracy: 0.0049\n",
      "Epoch 20/20\n",
      "41/41 [==============================] - 0s 1ms/step - loss: 0.0624 - accuracy: 0.0049\n"
     ]
    },
    {
     "data": {
      "text/plain": [
       "<keras.callbacks.History at 0x298c8c12cc8>"
      ]
     },
     "execution_count": 27,
     "metadata": {},
     "output_type": "execute_result"
    }
   ],
   "source": [
    "# Fit the model\n",
    "transfer_model.fit(X_train_scaled,y_train, \n",
    "                    epochs=20,\n",
    "                    batch_size=100,\n",
    "                    shuffle=True)"
   ]
  },
  {
   "cell_type": "code",
   "execution_count": 28,
   "id": "7114fb74",
   "metadata": {},
   "outputs": [
    {
     "name": "stdout",
     "output_type": "stream",
     "text": [
      "43/43 - 0s - loss: 0.0085 - accuracy: 0.0073 - 109ms/epoch - 3ms/step\n",
      "Loss: 0.008503696881234646, Accuracy: 0.007342143915593624\n"
     ]
    }
   ],
   "source": [
    "# Evaluate the model loss and accuracy metrics using the evaluate method and the test data\n",
    "model_loss, model_accuracy = nn.evaluate(X_test_scaled, y_test, verbose=2)\n",
    "\n",
    "# Display the evaluation results\n",
    "print(f\"Loss: {model_loss}, Accuracy: {model_accuracy}\")"
   ]
  },
  {
   "cell_type": "code",
   "execution_count": null,
   "id": "e660c1b5-c8ac-4338-8f45-03ba43013f4f",
   "metadata": {},
   "outputs": [],
   "source": []
  }
 ],
 "metadata": {
  "kernelspec": {
   "display_name": "Python 3 (ipykernel)",
   "language": "python",
   "name": "python3"
  },
  "language_info": {
   "codemirror_mode": {
    "name": "ipython",
    "version": 3
   },
   "file_extension": ".py",
   "mimetype": "text/x-python",
   "name": "python",
   "nbconvert_exporter": "python",
   "pygments_lexer": "ipython3",
   "version": "3.7.13"
  }
 },
 "nbformat": 4,
 "nbformat_minor": 5
}
