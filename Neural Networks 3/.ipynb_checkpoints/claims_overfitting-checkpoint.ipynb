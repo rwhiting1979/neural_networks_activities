{
 "cells": [
  {
   "cell_type": "markdown",
   "id": "e8790310",
   "metadata": {},
   "source": [
    "# Insurtech: Categorical Risk\n",
    "\n",
    "## Background\n",
    "\n",
    "The insurance business revolves around quantifying risk: the insurer invests insurance premiums in financial markets, and makes payouts in the form of insurance claims. Both investments and claims payouts require models in order to quantify and predict risk, or the level of potential financial loss. \n",
    "\n",
    "This dataset contains historical claims payouts for a number of different medical insurance buyers, along with their characteristics (\"age\", \"smoker\", and so forth). Can you build a deep neural network that uses people's characteristics to quantify the potential level of dollar claims, and can you model be made robust to overfitting? \n",
    "\n",
    "## Instructions\n",
    "\n",
    "### Preparing the Data\n",
    "1) Read in the data.\n",
    "\n",
    "2) Use `pd.qcut` to split the dependent variable, `charges`, into 5 categorical buckets. Save this result to a `charges_quantile` column.\n",
    "\n",
    "3) Use `LabelEncoder` and `to_categorical` to set this column as your `y` variable. \n",
    "\n",
    "4) Set the remaining data as your `X` data.\n",
    "\n",
    "5) Split the data into training and test windows using `train_test_split`.\n",
    "\n",
    "### Fitting the Model\n",
    "\n",
    "1) Fit and evaluate the model, including at least one dropout layer, and one layer with regularization. Include a validation set as part of fitting the model.\n",
    "\n",
    "2) Plot performance on the training and validation set across epochs. \n",
    "\n",
    "3) Finally, re-fit the new model, adjusting the amount of epochs for training so as to avoid overfitting as much as possible."
   ]
  },
  {
   "cell_type": "code",
   "execution_count": 2,
   "id": "038c919a",
   "metadata": {},
   "outputs": [],
   "source": [
    "import pandas as pd\n",
    "import numpy as np"
   ]
  },
  {
   "cell_type": "code",
   "execution_count": 3,
   "id": "292c574b",
   "metadata": {},
   "outputs": [],
   "source": [
    "from keras.models import Sequential\n",
    "from keras.layers import Dense, Activation\n",
    "\n",
    "# This code is neccessary to produce the same results every time\n",
    "import tensorflow as tf\n",
    "tf.keras.utils.set_random_seed(1)"
   ]
  },
  {
   "cell_type": "code",
   "execution_count": 4,
   "id": "322048df",
   "metadata": {},
   "outputs": [],
   "source": [
    "# Read in the data\n",
    "df = pd.read_csv('insurance_claims.csv')"
   ]
  },
  {
   "cell_type": "code",
   "execution_count": 5,
   "id": "6445c810",
   "metadata": {},
   "outputs": [
    {
     "data": {
      "text/html": [
       "<div>\n",
       "<style scoped>\n",
       "    .dataframe tbody tr th:only-of-type {\n",
       "        vertical-align: middle;\n",
       "    }\n",
       "\n",
       "    .dataframe tbody tr th {\n",
       "        vertical-align: top;\n",
       "    }\n",
       "\n",
       "    .dataframe thead th {\n",
       "        text-align: right;\n",
       "    }\n",
       "</style>\n",
       "<table border=\"1\" class=\"dataframe\">\n",
       "  <thead>\n",
       "    <tr style=\"text-align: right;\">\n",
       "      <th></th>\n",
       "      <th>age</th>\n",
       "      <th>bmi</th>\n",
       "      <th>children</th>\n",
       "      <th>smoker</th>\n",
       "      <th>charges</th>\n",
       "    </tr>\n",
       "  </thead>\n",
       "  <tbody>\n",
       "    <tr>\n",
       "      <th>0</th>\n",
       "      <td>19</td>\n",
       "      <td>27.900</td>\n",
       "      <td>0</td>\n",
       "      <td>1</td>\n",
       "      <td>16884.92400</td>\n",
       "    </tr>\n",
       "    <tr>\n",
       "      <th>1</th>\n",
       "      <td>18</td>\n",
       "      <td>33.770</td>\n",
       "      <td>1</td>\n",
       "      <td>0</td>\n",
       "      <td>1725.55230</td>\n",
       "    </tr>\n",
       "    <tr>\n",
       "      <th>2</th>\n",
       "      <td>28</td>\n",
       "      <td>33.000</td>\n",
       "      <td>3</td>\n",
       "      <td>0</td>\n",
       "      <td>4449.46200</td>\n",
       "    </tr>\n",
       "    <tr>\n",
       "      <th>3</th>\n",
       "      <td>33</td>\n",
       "      <td>22.705</td>\n",
       "      <td>0</td>\n",
       "      <td>0</td>\n",
       "      <td>21984.47061</td>\n",
       "    </tr>\n",
       "    <tr>\n",
       "      <th>4</th>\n",
       "      <td>32</td>\n",
       "      <td>28.880</td>\n",
       "      <td>0</td>\n",
       "      <td>0</td>\n",
       "      <td>3866.85520</td>\n",
       "    </tr>\n",
       "  </tbody>\n",
       "</table>\n",
       "</div>"
      ],
      "text/plain": [
       "   age     bmi  children  smoker      charges\n",
       "0   19  27.900         0       1  16884.92400\n",
       "1   18  33.770         1       0   1725.55230\n",
       "2   28  33.000         3       0   4449.46200\n",
       "3   33  22.705         0       0  21984.47061\n",
       "4   32  28.880         0       0   3866.85520"
      ]
     },
     "execution_count": 5,
     "metadata": {},
     "output_type": "execute_result"
    }
   ],
   "source": [
    "df.head()"
   ]
  },
  {
   "cell_type": "code",
   "execution_count": 6,
   "id": "f5765905",
   "metadata": {},
   "outputs": [
    {
     "data": {
      "text/plain": [
       "1    268\n",
       "5    268\n",
       "3    268\n",
       "4    267\n",
       "2    267\n",
       "Name: charges_quantile, dtype: int64"
      ]
     },
     "execution_count": 6,
     "metadata": {},
     "output_type": "execute_result"
    }
   ],
   "source": [
    "# Use qcut to group claims data (\"charges\") into 5 buckets\n",
    "df['charges_quantile'] = (pd.qcut(df['charges'], q=5, labels=False))+1\n",
    "\n",
    "# Verify buckets are approximately balanced \n",
    "# (Slight imbalance from ties is OK)\n",
    "df['charges_quantile'].value_counts()"
   ]
  },
  {
   "cell_type": "code",
   "execution_count": 7,
   "id": "e029a4ce",
   "metadata": {},
   "outputs": [],
   "source": [
    "# Save bucket (\"quantile\") value as the new  `y` variable\n",
    "y_quantile = df['charges_quantile']"
   ]
  },
  {
   "cell_type": "code",
   "execution_count": 8,
   "id": "56854242",
   "metadata": {},
   "outputs": [],
   "source": [
    "# Save the unique count of categories for later use\n",
    "number_of_classes = len(y_quantile.unique())"
   ]
  },
  {
   "cell_type": "code",
   "execution_count": 9,
   "id": "b225898d",
   "metadata": {},
   "outputs": [
    {
     "data": {
      "text/plain": [
       "array([3, 0, 1, ..., 0, 0, 4], dtype=int64)"
      ]
     },
     "execution_count": 9,
     "metadata": {},
     "output_type": "execute_result"
    }
   ],
   "source": [
    "# Encode quantiles into labels\n",
    "from sklearn.preprocessing import LabelEncoder\n",
    "encoder = LabelEncoder()\n",
    "encoder.fit(y_quantile)\n",
    "encoded_y = encoder.transform(y_quantile)\n",
    "encoded_y"
   ]
  },
  {
   "cell_type": "code",
   "execution_count": 10,
   "id": "fa4a563f",
   "metadata": {},
   "outputs": [
    {
     "data": {
      "text/plain": [
       "array([[0., 0., 0., 1., 0.],\n",
       "       [1., 0., 0., 0., 0.],\n",
       "       [0., 1., 0., 0., 0.],\n",
       "       ...,\n",
       "       [1., 0., 0., 0., 0.],\n",
       "       [1., 0., 0., 0., 0.],\n",
       "       [0., 0., 0., 0., 1.]], dtype=float32)"
      ]
     },
     "execution_count": 10,
     "metadata": {},
     "output_type": "execute_result"
    }
   ],
   "source": [
    "# Encode labels into categories\n",
    "from keras.utils.np_utils import to_categorical\n",
    "y_categorical = to_categorical(encoded_y, num_classes=number_of_classes)\n",
    "y_categorical"
   ]
  },
  {
   "cell_type": "code",
   "execution_count": 11,
   "id": "f1219ca4",
   "metadata": {},
   "outputs": [
    {
     "data": {
      "text/html": [
       "<div>\n",
       "<style scoped>\n",
       "    .dataframe tbody tr th:only-of-type {\n",
       "        vertical-align: middle;\n",
       "    }\n",
       "\n",
       "    .dataframe tbody tr th {\n",
       "        vertical-align: top;\n",
       "    }\n",
       "\n",
       "    .dataframe thead th {\n",
       "        text-align: right;\n",
       "    }\n",
       "</style>\n",
       "<table border=\"1\" class=\"dataframe\">\n",
       "  <thead>\n",
       "    <tr style=\"text-align: right;\">\n",
       "      <th></th>\n",
       "      <th>age</th>\n",
       "      <th>bmi</th>\n",
       "      <th>children</th>\n",
       "      <th>smoker</th>\n",
       "    </tr>\n",
       "  </thead>\n",
       "  <tbody>\n",
       "    <tr>\n",
       "      <th>0</th>\n",
       "      <td>19</td>\n",
       "      <td>27.90</td>\n",
       "      <td>0</td>\n",
       "      <td>1</td>\n",
       "    </tr>\n",
       "    <tr>\n",
       "      <th>1</th>\n",
       "      <td>18</td>\n",
       "      <td>33.77</td>\n",
       "      <td>1</td>\n",
       "      <td>0</td>\n",
       "    </tr>\n",
       "    <tr>\n",
       "      <th>2</th>\n",
       "      <td>28</td>\n",
       "      <td>33.00</td>\n",
       "      <td>3</td>\n",
       "      <td>0</td>\n",
       "    </tr>\n",
       "  </tbody>\n",
       "</table>\n",
       "</div>"
      ],
      "text/plain": [
       "   age    bmi  children  smoker\n",
       "0   19  27.90         0       1\n",
       "1   18  33.77         1       0\n",
       "2   28  33.00         3       0"
      ]
     },
     "execution_count": 11,
     "metadata": {},
     "output_type": "execute_result"
    }
   ],
   "source": [
    "# Specify X (predictor) variables\n",
    "X = df[['age','bmi','children', 'smoker']]\n",
    "X.head(3)"
   ]
  },
  {
   "cell_type": "code",
   "execution_count": 13,
   "id": "09f6d2b3",
   "metadata": {},
   "outputs": [],
   "source": [
    "# Split into training and testing windows\n",
    "from sklearn.model_selection import train_test_split\n",
    "X_train, X_test, y_train, y_test = train_test_split(X, y_categorical, random_state=1)"
   ]
  },
  {
   "cell_type": "code",
   "execution_count": 14,
   "id": "047e581e",
   "metadata": {},
   "outputs": [
    {
     "data": {
      "text/plain": [
       "array([[1., 0., 0., 0., 0.],\n",
       "       [1., 0., 0., 0., 0.],\n",
       "       [0., 1., 0., 0., 0.],\n",
       "       ...,\n",
       "       [0., 0., 0., 0., 1.],\n",
       "       [0., 0., 0., 1., 0.],\n",
       "       [0., 0., 0., 1., 0.]], dtype=float32)"
      ]
     },
     "execution_count": 14,
     "metadata": {},
     "output_type": "execute_result"
    }
   ],
   "source": [
    "# Preview the `y_train` values\n",
    "y_train"
   ]
  },
  {
   "cell_type": "code",
   "execution_count": 15,
   "id": "d8a8314d",
   "metadata": {},
   "outputs": [
    {
     "data": {
      "text/plain": [
       "4"
      ]
     },
     "execution_count": 15,
     "metadata": {},
     "output_type": "execute_result"
    }
   ],
   "source": [
    "# Save the count of unique predictor variables for use in model\n",
    "number_of_predictors = len(X.columns)\n",
    "len(X.columns)"
   ]
  },
  {
   "cell_type": "markdown",
   "id": "a1c124ca",
   "metadata": {},
   "source": [
    "### Build the Model\n",
    "\n"
   ]
  },
  {
   "cell_type": "code",
   "execution_count": 17,
   "id": "88fff3da",
   "metadata": {},
   "outputs": [],
   "source": [
    "# Import the `Dropout` layer\n",
    "from keras.layers import Dropout\n",
    "# Import regularization functions\n",
    "from keras.regularizers import l1, l2"
   ]
  },
  {
   "cell_type": "code",
   "execution_count": 18,
   "id": "d3f0702b",
   "metadata": {},
   "outputs": [],
   "source": [
    "# Build the Model\n",
    "model = Sequential()\n",
    "\n",
    "# Add a dense layer\n",
    "model.add(Dense(10, input_dim=number_of_predictors, activation='relu'))\n",
    "\n",
    "# Now add a dropout layer\n",
    "model.add(Dropout(.2,input_shape=(10,)))\n",
    "\n",
    "# Add another dense layer\n",
    "model.add(Dense(5, activation='relu', kernel_regularizer=l2(0.01), bias_regularizer=l2(0.01)))"
   ]
  },
  {
   "cell_type": "code",
   "execution_count": 19,
   "id": "2e188acc",
   "metadata": {},
   "outputs": [],
   "source": [
    "# Add the final output layer\n",
    "# (Hint: Set the # of possible outputs equal to the number classes)\n",
    "model.add(Dense(number_of_classes, activation='softmax'))"
   ]
  },
  {
   "cell_type": "code",
   "execution_count": 20,
   "id": "234f97d9",
   "metadata": {},
   "outputs": [],
   "source": [
    "# Compile the model\n",
    "model.compile(loss=\"categorical_crossentropy\", \n",
    "              optimizer= \"adam\", \n",
    "              metrics=['categorical_accuracy'])"
   ]
  },
  {
   "cell_type": "code",
   "execution_count": 21,
   "id": "fb552948",
   "metadata": {},
   "outputs": [
    {
     "name": "stdout",
     "output_type": "stream",
     "text": [
      "Model: \"sequential_1\"\n",
      "_________________________________________________________________\n",
      " Layer (type)                Output Shape              Param #   \n",
      "=================================================================\n",
      " dense_1 (Dense)             (None, 10)                50        \n",
      "                                                                 \n",
      " dropout (Dropout)           (None, 10)                0         \n",
      "                                                                 \n",
      " dense_2 (Dense)             (None, 5)                 55        \n",
      "                                                                 \n",
      " dense_3 (Dense)             (None, 5)                 30        \n",
      "                                                                 \n",
      "=================================================================\n",
      "Total params: 135\n",
      "Trainable params: 135\n",
      "Non-trainable params: 0\n",
      "_________________________________________________________________\n"
     ]
    }
   ],
   "source": [
    "# Summarise the model\n",
    "model.summary()"
   ]
  },
  {
   "cell_type": "code",
   "execution_count": 22,
   "id": "0cd4bbee",
   "metadata": {},
   "outputs": [
    {
     "name": "stdout",
     "output_type": "stream",
     "text": [
      "Epoch 1/50\n",
      "81/81 [==============================] - 1s 3ms/step - loss: 10.1596 - categorical_accuracy: 0.1895 - val_loss: 4.2294 - val_categorical_accuracy: 0.2438\n",
      "Epoch 2/50\n",
      "81/81 [==============================] - 0s 1ms/step - loss: 4.6720 - categorical_accuracy: 0.2294 - val_loss: 2.5366 - val_categorical_accuracy: 0.2786\n",
      "Epoch 3/50\n",
      "81/81 [==============================] - 0s 1ms/step - loss: 2.8720 - categorical_accuracy: 0.2419 - val_loss: 1.5889 - val_categorical_accuracy: 0.4428\n",
      "Epoch 4/50\n",
      "81/81 [==============================] - 0s 1ms/step - loss: 2.2618 - categorical_accuracy: 0.2332 - val_loss: 1.6002 - val_categorical_accuracy: 0.2438\n",
      "Epoch 5/50\n",
      "81/81 [==============================] - 0s 1ms/step - loss: 1.8367 - categorical_accuracy: 0.2319 - val_loss: 1.6358 - val_categorical_accuracy: 0.2090\n",
      "Epoch 6/50\n",
      "81/81 [==============================] - 0s 1ms/step - loss: 1.7890 - categorical_accuracy: 0.2269 - val_loss: 1.6378 - val_categorical_accuracy: 0.2040\n",
      "Epoch 7/50\n",
      "81/81 [==============================] - 0s 1ms/step - loss: 1.7855 - categorical_accuracy: 0.2082 - val_loss: 1.6367 - val_categorical_accuracy: 0.2040\n",
      "Epoch 8/50\n",
      "81/81 [==============================] - 0s 1ms/step - loss: 1.6864 - categorical_accuracy: 0.2357 - val_loss: 1.6353 - val_categorical_accuracy: 0.2040\n",
      "Epoch 9/50\n",
      "81/81 [==============================] - 0s 1ms/step - loss: 1.6672 - categorical_accuracy: 0.2232 - val_loss: 1.6346 - val_categorical_accuracy: 0.2040\n",
      "Epoch 10/50\n",
      "81/81 [==============================] - 0s 1ms/step - loss: 1.6764 - categorical_accuracy: 0.2257 - val_loss: 1.6339 - val_categorical_accuracy: 0.2040\n",
      "Epoch 11/50\n",
      "81/81 [==============================] - 0s 1ms/step - loss: 1.6591 - categorical_accuracy: 0.2182 - val_loss: 1.6333 - val_categorical_accuracy: 0.2040\n",
      "Epoch 12/50\n",
      "81/81 [==============================] - 0s 1ms/step - loss: 1.6538 - categorical_accuracy: 0.2207 - val_loss: 1.6325 - val_categorical_accuracy: 0.2040\n",
      "Epoch 13/50\n",
      "81/81 [==============================] - 0s 1ms/step - loss: 1.6402 - categorical_accuracy: 0.2145 - val_loss: 1.6324 - val_categorical_accuracy: 0.2040\n",
      "Epoch 14/50\n",
      "81/81 [==============================] - 0s 1ms/step - loss: 1.6500 - categorical_accuracy: 0.2007 - val_loss: 1.6320 - val_categorical_accuracy: 0.2040\n",
      "Epoch 15/50\n",
      "81/81 [==============================] - 0s 1ms/step - loss: 1.6528 - categorical_accuracy: 0.2170 - val_loss: 1.6316 - val_categorical_accuracy: 0.2040\n",
      "Epoch 16/50\n",
      "81/81 [==============================] - 0s 1ms/step - loss: 1.6454 - categorical_accuracy: 0.2195 - val_loss: 1.6320 - val_categorical_accuracy: 0.2040\n",
      "Epoch 17/50\n",
      "81/81 [==============================] - 0s 1ms/step - loss: 1.6293 - categorical_accuracy: 0.2195 - val_loss: 1.5522 - val_categorical_accuracy: 0.2488\n",
      "Epoch 18/50\n",
      "81/81 [==============================] - 0s 1ms/step - loss: 1.5931 - categorical_accuracy: 0.2456 - val_loss: 1.5337 - val_categorical_accuracy: 0.2886\n",
      "Epoch 19/50\n",
      "81/81 [==============================] - 0s 1ms/step - loss: 1.5769 - categorical_accuracy: 0.2656 - val_loss: 1.4887 - val_categorical_accuracy: 0.3682\n",
      "Epoch 20/50\n",
      "81/81 [==============================] - 0s 1ms/step - loss: 1.5726 - categorical_accuracy: 0.2793 - val_loss: 1.4921 - val_categorical_accuracy: 0.3632\n",
      "Epoch 21/50\n",
      "81/81 [==============================] - 0s 1ms/step - loss: 1.5586 - categorical_accuracy: 0.2818 - val_loss: 1.4718 - val_categorical_accuracy: 0.3682\n",
      "Epoch 22/50\n",
      "81/81 [==============================] - 0s 1ms/step - loss: 1.5411 - categorical_accuracy: 0.3080 - val_loss: 1.4803 - val_categorical_accuracy: 0.3682\n",
      "Epoch 23/50\n",
      "81/81 [==============================] - 0s 1ms/step - loss: 1.5454 - categorical_accuracy: 0.3229 - val_loss: 1.4731 - val_categorical_accuracy: 0.3731\n",
      "Epoch 24/50\n",
      "81/81 [==============================] - 0s 1ms/step - loss: 1.5274 - categorical_accuracy: 0.3155 - val_loss: 1.4510 - val_categorical_accuracy: 0.3781\n",
      "Epoch 25/50\n",
      "81/81 [==============================] - 0s 1ms/step - loss: 1.5259 - categorical_accuracy: 0.3192 - val_loss: 1.4436 - val_categorical_accuracy: 0.3781\n",
      "Epoch 26/50\n",
      "81/81 [==============================] - 0s 1ms/step - loss: 1.5118 - categorical_accuracy: 0.3541 - val_loss: 1.4413 - val_categorical_accuracy: 0.3781\n",
      "Epoch 27/50\n",
      "81/81 [==============================] - 0s 1ms/step - loss: 1.4969 - categorical_accuracy: 0.3541 - val_loss: 1.4326 - val_categorical_accuracy: 0.3781\n",
      "Epoch 28/50\n",
      "81/81 [==============================] - 0s 1ms/step - loss: 1.4999 - categorical_accuracy: 0.3416 - val_loss: 1.4270 - val_categorical_accuracy: 0.3881\n",
      "Epoch 29/50\n",
      "81/81 [==============================] - 0s 1ms/step - loss: 1.4947 - categorical_accuracy: 0.3354 - val_loss: 1.4263 - val_categorical_accuracy: 0.3731\n",
      "Epoch 30/50\n",
      "81/81 [==============================] - 0s 1ms/step - loss: 1.4906 - categorical_accuracy: 0.3392 - val_loss: 1.4252 - val_categorical_accuracy: 0.3781\n",
      "Epoch 31/50\n",
      "81/81 [==============================] - 0s 1ms/step - loss: 1.4878 - categorical_accuracy: 0.3392 - val_loss: 1.4289 - val_categorical_accuracy: 0.3930\n",
      "Epoch 32/50\n",
      "81/81 [==============================] - 0s 1ms/step - loss: 1.4856 - categorical_accuracy: 0.3516 - val_loss: 1.4172 - val_categorical_accuracy: 0.3781\n",
      "Epoch 33/50\n",
      "81/81 [==============================] - 0s 1ms/step - loss: 1.4935 - categorical_accuracy: 0.3479 - val_loss: 1.4138 - val_categorical_accuracy: 0.3781\n",
      "Epoch 34/50\n",
      "81/81 [==============================] - 0s 1ms/step - loss: 1.4827 - categorical_accuracy: 0.3479 - val_loss: 1.4133 - val_categorical_accuracy: 0.3781\n",
      "Epoch 35/50\n",
      "81/81 [==============================] - 0s 1ms/step - loss: 1.4701 - categorical_accuracy: 0.3753 - val_loss: 1.4113 - val_categorical_accuracy: 0.3980\n",
      "Epoch 36/50\n",
      "81/81 [==============================] - 0s 1ms/step - loss: 1.4732 - categorical_accuracy: 0.3342 - val_loss: 1.4103 - val_categorical_accuracy: 0.3881\n",
      "Epoch 37/50\n",
      "81/81 [==============================] - 0s 1ms/step - loss: 1.4865 - categorical_accuracy: 0.3392 - val_loss: 1.4083 - val_categorical_accuracy: 0.3980\n",
      "Epoch 38/50\n",
      "81/81 [==============================] - 0s 1ms/step - loss: 1.4651 - categorical_accuracy: 0.3529 - val_loss: 1.4017 - val_categorical_accuracy: 0.3831\n",
      "Epoch 39/50\n",
      "81/81 [==============================] - 0s 1ms/step - loss: 1.4709 - categorical_accuracy: 0.3529 - val_loss: 1.4027 - val_categorical_accuracy: 0.3980\n",
      "Epoch 40/50\n",
      "81/81 [==============================] - 0s 1ms/step - loss: 1.4609 - categorical_accuracy: 0.3579 - val_loss: 1.3969 - val_categorical_accuracy: 0.3930\n",
      "Epoch 41/50\n",
      "81/81 [==============================] - 0s 1ms/step - loss: 1.4626 - categorical_accuracy: 0.3354 - val_loss: 1.3989 - val_categorical_accuracy: 0.4030\n",
      "Epoch 42/50\n",
      "81/81 [==============================] - 0s 1ms/step - loss: 1.4619 - categorical_accuracy: 0.3529 - val_loss: 1.3942 - val_categorical_accuracy: 0.3980\n",
      "Epoch 43/50\n",
      "81/81 [==============================] - 0s 1ms/step - loss: 1.4578 - categorical_accuracy: 0.3416 - val_loss: 1.3963 - val_categorical_accuracy: 0.3980\n",
      "Epoch 44/50\n",
      "81/81 [==============================] - 0s 1ms/step - loss: 1.4473 - categorical_accuracy: 0.3566 - val_loss: 1.3945 - val_categorical_accuracy: 0.3930\n",
      "Epoch 45/50\n",
      "81/81 [==============================] - 0s 1ms/step - loss: 1.4476 - categorical_accuracy: 0.3666 - val_loss: 1.3884 - val_categorical_accuracy: 0.3881\n",
      "Epoch 46/50\n",
      "81/81 [==============================] - 0s 1ms/step - loss: 1.4496 - categorical_accuracy: 0.3554 - val_loss: 1.3849 - val_categorical_accuracy: 0.4030\n",
      "Epoch 47/50\n",
      "81/81 [==============================] - 0s 1ms/step - loss: 1.4355 - categorical_accuracy: 0.3566 - val_loss: 1.3815 - val_categorical_accuracy: 0.3881\n",
      "Epoch 48/50\n",
      "81/81 [==============================] - 0s 1ms/step - loss: 1.4397 - categorical_accuracy: 0.3429 - val_loss: 1.3864 - val_categorical_accuracy: 0.3881\n",
      "Epoch 49/50\n",
      "81/81 [==============================] - 0s 1ms/step - loss: 1.4475 - categorical_accuracy: 0.3292 - val_loss: 1.3851 - val_categorical_accuracy: 0.3930\n",
      "Epoch 50/50\n",
      "81/81 [==============================] - 0s 1ms/step - loss: 1.4520 - categorical_accuracy: 0.3516 - val_loss: 1.3767 - val_categorical_accuracy: 0.3930\n"
     ]
    },
    {
     "data": {
      "text/plain": [
       "<keras.callbacks.History at 0x1e9b7245208>"
      ]
     },
     "execution_count": 22,
     "metadata": {},
     "output_type": "execute_result"
    }
   ],
   "source": [
    "# Add in validation loss to select the number of epochs\n",
    "# Fit the model\n",
    "number_of_epochs = 50\n",
    "model.fit(X_train,y_train, \n",
    "                    epochs=number_of_epochs,\n",
    "                    batch_size=10,\n",
    "                      validation_split=0.2,\n",
    "                    shuffle=True)"
   ]
  },
  {
   "cell_type": "code",
   "execution_count": 23,
   "id": "53b0063a",
   "metadata": {},
   "outputs": [
    {
     "data": {
      "text/plain": [
       "dict_keys(['loss', 'categorical_accuracy', 'val_loss', 'val_categorical_accuracy'])"
      ]
     },
     "execution_count": 23,
     "metadata": {},
     "output_type": "execute_result"
    }
   ],
   "source": [
    "# Save model history across epochs\n",
    "model_history = model.history.history\n",
    "model_history.keys()"
   ]
  },
  {
   "cell_type": "code",
   "execution_count": 24,
   "id": "2124d070",
   "metadata": {},
   "outputs": [
    {
     "data": {
      "text/plain": [
       "[0.18952618539333344,\n",
       " 0.22942642867565155,\n",
       " 0.24189525842666626,\n",
       " 0.23316708207130432,\n",
       " 0.23192019760608673,\n",
       " 0.22693267464637756,\n",
       " 0.2082294225692749,\n",
       " 0.2356608510017395,\n",
       " 0.2231920212507248,\n",
       " 0.22568579018115997,\n",
       " 0.21820448338985443,\n",
       " 0.2206982523202896,\n",
       " 0.21446384489536285,\n",
       " 0.20074813067913055,\n",
       " 0.21695759892463684,\n",
       " 0.21945136785507202,\n",
       " 0.21945136785507202,\n",
       " 0.24563591182231903,\n",
       " 0.2655860483646393,\n",
       " 0.2793017327785492,\n",
       " 0.2817955017089844,\n",
       " 0.3079800605773926,\n",
       " 0.3229426443576813,\n",
       " 0.31546133756637573,\n",
       " 0.3192020058631897,\n",
       " 0.35411471128463745,\n",
       " 0.35411471128463745,\n",
       " 0.34164589643478394,\n",
       " 0.3354114592075348,\n",
       " 0.33915212750434875,\n",
       " 0.33915212750434875,\n",
       " 0.35162094235420227,\n",
       " 0.3478803038597107,\n",
       " 0.3478803038597107,\n",
       " 0.3753117322921753,\n",
       " 0.3341645896434784,\n",
       " 0.33915212750434875,\n",
       " 0.35286784172058105,\n",
       " 0.35286784172058105,\n",
       " 0.35785534977912903,\n",
       " 0.3354114592075348,\n",
       " 0.35286784172058105,\n",
       " 0.34164589643478394,\n",
       " 0.35660848021507263,\n",
       " 0.36658355593681335,\n",
       " 0.35536161065101624,\n",
       " 0.35660848021507263,\n",
       " 0.34289276599884033,\n",
       " 0.32917705178260803,\n",
       " 0.35162094235420227]"
      ]
     },
     "execution_count": 24,
     "metadata": {},
     "output_type": "execute_result"
    }
   ],
   "source": [
    "# View `categorical_accuracy` for the training dataset\n",
    "model_history['categorical_accuracy']"
   ]
  },
  {
   "cell_type": "code",
   "execution_count": 25,
   "id": "3ef4fda4",
   "metadata": {},
   "outputs": [
    {
     "data": {
      "text/plain": [
       "<AxesSubplot:title={'center':'Performance Across Training and Validation'}>"
      ]
     },
     "execution_count": 25,
     "metadata": {},
     "output_type": "execute_result"
    },
    {
     "data": {
      "image/png": "[encoded data removed]",
      "text/plain": [
       "<Figure size 640x480 with 1 Axes>"
      ]
     },
     "metadata": {},
     "output_type": "display_data"
    }
   ],
   "source": [
    "# Save accuracy for training and validation set across epochs into a DataFrame and Plot\n",
    "training_results = pd.DataFrame(index=range(1,number_of_epochs+1))\n",
    "training_results['Training'] = model_history['categorical_accuracy']\n",
    "training_results['Validation'] = model_history['val_categorical_accuracy']\n",
    "training_results.plot(title = 'Performance Across Training and Validation')"
   ]
  },
  {
   "cell_type": "code",
   "execution_count": 26,
   "id": "e1dc8737",
   "metadata": {},
   "outputs": [
    {
     "name": "stdout",
     "output_type": "stream",
     "text": [
      "Epoch 1/10\n",
      "81/81 [==============================] - 0s 2ms/step - loss: 1.4384 - categorical_accuracy: 0.3541 - val_loss: 1.3740 - val_categorical_accuracy: 0.4279\n",
      "Epoch 2/10\n",
      "81/81 [==============================] - 0s 1ms/step - loss: 1.4267 - categorical_accuracy: 0.3429 - val_loss: 1.3709 - val_categorical_accuracy: 0.3881\n",
      "Epoch 3/10\n",
      "81/81 [==============================] - 0s 1ms/step - loss: 1.4265 - categorical_accuracy: 0.3591 - val_loss: 1.3688 - val_categorical_accuracy: 0.3881\n",
      "Epoch 4/10\n",
      "81/81 [==============================] - 0s 1ms/step - loss: 1.4412 - categorical_accuracy: 0.3404 - val_loss: 1.3906 - val_categorical_accuracy: 0.3930\n",
      "Epoch 5/10\n",
      "81/81 [==============================] - 0s 1ms/step - loss: 1.4237 - categorical_accuracy: 0.3529 - val_loss: 1.3645 - val_categorical_accuracy: 0.3980\n",
      "Epoch 6/10\n",
      "81/81 [==============================] - 0s 1ms/step - loss: 1.4323 - categorical_accuracy: 0.3529 - val_loss: 1.3749 - val_categorical_accuracy: 0.3930\n",
      "Epoch 7/10\n",
      "81/81 [==============================] - 0s 1ms/step - loss: 1.4260 - categorical_accuracy: 0.3541 - val_loss: 1.3669 - val_categorical_accuracy: 0.3980\n",
      "Epoch 8/10\n",
      "81/81 [==============================] - 0s 1ms/step - loss: 1.4168 - categorical_accuracy: 0.3579 - val_loss: 1.3638 - val_categorical_accuracy: 0.4030\n",
      "Epoch 9/10\n",
      "81/81 [==============================] - 0s 1ms/step - loss: 1.4130 - categorical_accuracy: 0.3466 - val_loss: 1.3645 - val_categorical_accuracy: 0.3930\n",
      "Epoch 10/10\n",
      "81/81 [==============================] - 0s 1ms/step - loss: 1.4180 - categorical_accuracy: 0.3466 - val_loss: 1.3544 - val_categorical_accuracy: 0.3980\n"
     ]
    },
    {
     "data": {
      "text/plain": [
       "<keras.callbacks.History at 0x1e9ba35a608>"
      ]
     },
     "execution_count": 26,
     "metadata": {},
     "output_type": "execute_result"
    }
   ],
   "source": [
    "# Re-Fit the model, this time with epoch count selected so as to avoid overfitting\n",
    "number_of_epochs = 10\n",
    "model.fit(X_train,y_train, \n",
    "                    epochs=number_of_epochs,\n",
    "                    batch_size=10,\n",
    "                      validation_split=0.2,\n",
    "                    shuffle=True)"
   ]
  },
  {
   "cell_type": "code",
   "execution_count": null,
   "id": "227a1ab7-cf31-486d-83f7-cd1fa030d047",
   "metadata": {},
   "outputs": [],
   "source": []
  }
 ],
 "metadata": {
  "kernelspec": {
   "display_name": "Python 3 (ipykernel)",
   "language": "python",
   "name": "python3"
  },
  "language_info": {
   "codemirror_mode": {
    "name": "ipython",
    "version": 3
   },
   "file_extension": ".py",
   "mimetype": "text/x-python",
   "name": "python",
   "nbconvert_exporter": "python",
   "pygments_lexer": "ipython3",
   "version": "3.7.13"
  }
 },
 "nbformat": 4,
 "nbformat_minor": 5
}
